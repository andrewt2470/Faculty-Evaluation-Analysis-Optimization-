{
 "cells": [
  {
   "cell_type": "code",
   "execution_count": 993,
   "id": "9d0a1837",
   "metadata": {},
   "outputs": [],
   "source": [
    "import numpy as np\n",
    "import pandas as pd\n",
    "import os\n",
    "from pathlib import Path\n",
    "import glob\n",
    "import matplotlib.pyplot as plt\n",
    "from faker import Faker\n",
    "from datetime import date"
   ]
  },
  {
   "cell_type": "markdown",
   "id": "5d2203b2",
   "metadata": {},
   "source": [
    "# Importing 30 CSV files"
   ]
  },
  {
   "cell_type": "code",
   "execution_count": 994,
   "id": "0bfd56aa",
   "metadata": {
    "scrolled": true
   },
   "outputs": [
    {
     "data": {
      "text/plain": [
       "30"
      ]
     },
     "execution_count": 994,
     "metadata": {},
     "output_type": "execute_result"
    }
   ],
   "source": [
    "path = '/Users/andrewtaylor/Desktop/Data_Science/Yale/MedHub/MedHub_Reports' \n",
    "csv_files = glob.glob(os.path.join(path, \"*.xlsx\"))\n",
    "len(csv_files)"
   ]
  },
  {
   "cell_type": "code",
   "execution_count": 995,
   "id": "3e203bc2",
   "metadata": {},
   "outputs": [],
   "source": [
    "#creating a single DataFrame for the 30 previously read xlsx files\n",
    "\n",
    "all_data = pd.DataFrame()\n",
    "    \n",
    "for f in csv_files:\n",
    "    # reading 1 file at a time from the csv_files variable\n",
    "    file, row = pd.read_excel(f), pd.read_excel(f)\n",
    "    # slicing down to the 3rd row because there are rows that are irrelevant at the top of each file\n",
    "    file = file.iloc[3:, :]\n",
    "    \n",
    "    # concatenating the spreadsheets under one another\n",
    "    all_data = pd.concat([all_data, file])"
   ]
  },
  {
   "cell_type": "code",
   "execution_count": 996,
   "id": "2d1395a4",
   "metadata": {},
   "outputs": [],
   "source": [
    "# resetting the index and saving it to the DataFrame\n",
    "\n",
    "all_data.reset_index(inplace = True, drop = True)"
   ]
  },
  {
   "cell_type": "markdown",
   "id": "e1f326ca",
   "metadata": {},
   "source": [
    "# Data Cleaning/Manipulation"
   ]
  },
  {
   "cell_type": "code",
   "execution_count": 997,
   "id": "e2732c2d",
   "metadata": {},
   "outputs": [],
   "source": [
    "# pulling a list of the column headers, which fell within the dataset on the 3rd index, as opposed to the headers\n",
    "\n",
    "row_list = row.loc[3, :].values.flatten().tolist()[:12]"
   ]
  },
  {
   "cell_type": "code",
   "execution_count": 998,
   "id": "475a7a47",
   "metadata": {},
   "outputs": [
    {
     "data": {
      "text/plain": [
       "['Evaluator:',\n",
       " 'Evaluation:',\n",
       " 'Type:',\n",
       " 'Target:',\n",
       " 'Delivery Method:',\n",
       " 'Service:',\n",
       " 'Clinic:',\n",
       " 'Rotation:',\n",
       " 'Status:',\n",
       " 'Issued:',\n",
       " 'Completed:',\n",
       " 'Expiration Date:']"
      ]
     },
     "execution_count": 998,
     "metadata": {},
     "output_type": "execute_result"
    }
   ],
   "source": [
    "# viewing the list that was located in the 3rd index\n",
    "row_list"
   ]
  },
  {
   "cell_type": "code",
   "execution_count": 999,
   "id": "13b28c48",
   "metadata": {},
   "outputs": [],
   "source": [
    "# applying the row_list of column headers to the header of columns\n",
    "all_data = all_data.set_axis(row_list, axis =1)[1:].reset_index(drop = True)"
   ]
  },
  {
   "cell_type": "code",
   "execution_count": 1000,
   "id": "7d92e1c0",
   "metadata": {},
   "outputs": [],
   "source": [
    "all_data.columns = row_list"
   ]
  },
  {
   "cell_type": "code",
   "execution_count": 1001,
   "id": "b3e2aeec",
   "metadata": {},
   "outputs": [],
   "source": [
    "# there is unseen white space within the columns. they need to be removed in order to efficiently filter the data\n",
    "all_data[all_data.columns] = all_data.apply(lambda x: x.str.strip())"
   ]
  },
  {
   "cell_type": "code",
   "execution_count": 1002,
   "id": "1d7e072a",
   "metadata": {},
   "outputs": [],
   "source": [
    "# removing rows in which the Evaluation column contains Semi Annual, CCC, and SOC. Those are not evaluation that we would like to consider\n",
    "# in this analysis\n",
    "\n",
    "all_data = all_data[all_data[\"Evaluation:\"].str.contains('SemiAnnual', case = False)==False]\n",
    "all_data = all_data[all_data[\"Evaluation:\"].str.contains('CCC', case = False)==False]\n",
    "all_data = all_data[all_data[\"Evaluation:\"].str.contains('SOC', case = False)==False]\n",
    "all_data = all_data[all_data[\"Status:\"].str.contains('Status:', case = False)==False]\n",
    "\n",
    "# only keeping rows of data that are faculty evaluations of a resident\n",
    "all_data = all_data.loc[(all_data['Type:'] == 'Faculty evaluation of a resident')|(all_data['Type:'] == 'Faculty evaluation of a student')]\n",
    "\n",
    "# filtering the data to only include Complete and Incomplete evaluations, \n",
    "# effectively dropping Expired, and Partially Complete\n",
    "all_data = all_data.loc[(all_data['Status:'] == 'Complete') | (all_data['Status:'] == 'Incomplete')]"
   ]
  },
  {
   "cell_type": "code",
   "execution_count": 1003,
   "id": "575f7983",
   "metadata": {},
   "outputs": [
    {
     "data": {
      "text/plain": [
       "(1965, 12)"
      ]
     },
     "execution_count": 1003,
     "metadata": {},
     "output_type": "execute_result"
    }
   ],
   "source": [
    "all_data.shape"
   ]
  },
  {
   "cell_type": "code",
   "execution_count": 1004,
   "id": "3c2e24b5",
   "metadata": {},
   "outputs": [
    {
     "data": {
      "text/plain": [
       "Complete      1463\n",
       "Incomplete     502\n",
       "Name: Status:, dtype: int64"
      ]
     },
     "execution_count": 1004,
     "metadata": {},
     "output_type": "execute_result"
    }
   ],
   "source": [
    "all_data['Status:'].value_counts()"
   ]
  },
  {
   "cell_type": "code",
   "execution_count": 1005,
   "id": "d4895964",
   "metadata": {
    "scrolled": true
   },
   "outputs": [
    {
     "data": {
      "text/plain": [
       "(1965, 12)"
      ]
     },
     "execution_count": 1005,
     "metadata": {},
     "output_type": "execute_result"
    }
   ],
   "source": [
    "all_data.shape"
   ]
  },
  {
   "cell_type": "code",
   "execution_count": 1006,
   "id": "8ecaa96d",
   "metadata": {},
   "outputs": [],
   "source": [
    "# removing duplicate evaluations\n",
    "all_data = all_data.drop_duplicates()"
   ]
  },
  {
   "cell_type": "code",
   "execution_count": 1007,
   "id": "b3cfe4cc",
   "metadata": {
    "scrolled": true
   },
   "outputs": [
    {
     "data": {
      "text/plain": [
       "(1964, 12)"
      ]
     },
     "execution_count": 1007,
     "metadata": {},
     "output_type": "execute_result"
    }
   ],
   "source": [
    "all_data.shape"
   ]
  },
  {
   "cell_type": "code",
   "execution_count": 1008,
   "id": "eb79a9fb",
   "metadata": {},
   "outputs": [],
   "source": [
    "#removing \"Dr\" from all cells in Evaluator column\n",
    "\n",
    "all_data['Evaluator:'] = all_data['Evaluator:'].map(lambda x: x.lstrip('Dr.'))"
   ]
  },
  {
   "cell_type": "code",
   "execution_count": 1009,
   "id": "945f6257",
   "metadata": {},
   "outputs": [],
   "source": [
    "#chopping the extra data off in the Evaluation column at the '-' symbol\n",
    "\n",
    "all_data['Evaluation:'] = all_data['Evaluation:'].str.split('-', expand = True)[0]"
   ]
  },
  {
   "cell_type": "code",
   "execution_count": 1010,
   "id": "c94827c1",
   "metadata": {},
   "outputs": [],
   "source": [
    "# changing the evaluation column to a string data type\n",
    "all_data['Evaluation:'] = all_data['Evaluation:'].astype('str')"
   ]
  },
  {
   "cell_type": "code",
   "execution_count": 1011,
   "id": "ecbc4e5d",
   "metadata": {},
   "outputs": [],
   "source": [
    "#removing \"Dr\" from all cells in Evaluation column\n",
    "all_data['Evaluation:'] = all_data['Evaluation:'].map(lambda x: x.lstrip('Dr.'))"
   ]
  },
  {
   "cell_type": "code",
   "execution_count": 1012,
   "id": "bfd562ce",
   "metadata": {},
   "outputs": [
    {
     "name": "stdout",
     "output_type": "stream",
     "text": [
      "<class 'pandas.core.frame.DataFrame'>\n",
      "Int64Index: 1964 entries, 0 to 4209\n",
      "Data columns (total 12 columns):\n",
      " #   Column            Non-Null Count  Dtype \n",
      "---  ------            --------------  ----- \n",
      " 0   Evaluator:        1964 non-null   object\n",
      " 1   Evaluation:       1964 non-null   object\n",
      " 2   Type:             1964 non-null   object\n",
      " 3   Target:           1964 non-null   object\n",
      " 4   Delivery Method:  1964 non-null   object\n",
      " 5   Service:          1964 non-null   object\n",
      " 6   Clinic:           1964 non-null   object\n",
      " 7   Rotation:         1964 non-null   object\n",
      " 8   Status:           1964 non-null   object\n",
      " 9   Issued:           1964 non-null   object\n",
      " 10  Completed:        1964 non-null   object\n",
      " 11  Expiration Date:  1964 non-null   object\n",
      "dtypes: object(12)\n",
      "memory usage: 199.5+ KB\n"
     ]
    }
   ],
   "source": [
    "# checking data info\n",
    "all_data.info()"
   ]
  },
  {
   "cell_type": "code",
   "execution_count": 1013,
   "id": "3bbce5f1",
   "metadata": {},
   "outputs": [],
   "source": [
    "# selecting the columns i would like to use\n",
    "\n",
    "all_data = all_data[['Evaluator:', 'Evaluation:','Type:', 'Status:','Issued:','Completed:', 'Rotation:']]"
   ]
  },
  {
   "cell_type": "code",
   "execution_count": 1014,
   "id": "237b0f93",
   "metadata": {
    "scrolled": false
   },
   "outputs": [],
   "source": [
    "# there is unseen white space within the columns. they need to be removed in order to efficiently filter the data\n",
    "all_data[all_data.columns] = all_data.apply(lambda x: x.str.strip())"
   ]
  },
  {
   "cell_type": "code",
   "execution_count": 1015,
   "id": "b124b677",
   "metadata": {},
   "outputs": [],
   "source": [
    "# there are dashes in the Completed column. replacing that with NAN\n",
    "all_data = all_data.replace('- -', np.nan)"
   ]
  },
  {
   "cell_type": "code",
   "execution_count": 1016,
   "id": "c20d02f7",
   "metadata": {},
   "outputs": [],
   "source": [
    "# removing the colons from the column headers by renaming the column\n",
    "all_data.columns = ['Evaluator', 'Evaluation','Type','Status','Issued','Completed', 'Rotation']"
   ]
  },
  {
   "cell_type": "code",
   "execution_count": 1017,
   "id": "c062a614",
   "metadata": {},
   "outputs": [
    {
     "data": {
      "text/plain": [
       "1463"
      ]
     },
     "execution_count": 1017,
     "metadata": {},
     "output_type": "execute_result"
    }
   ],
   "source": [
    "all_data['Completed'].value_counts().sum()"
   ]
  },
  {
   "cell_type": "code",
   "execution_count": 1018,
   "id": "bba6799c",
   "metadata": {},
   "outputs": [],
   "source": [
    "# reading in faculty list to concatenate faculty email address and correvt Academic Unit to dataset based on Last Name, First Name\n",
    "faculty_list = pd.read_excel('/Users/andrewtaylor/Desktop/Data_Science/Yale/MedHub/Faculty List.xlsx')"
   ]
  },
  {
   "cell_type": "code",
   "execution_count": 1019,
   "id": "e2f029dc",
   "metadata": {},
   "outputs": [],
   "source": [
    "# creating a column that consists of last name and first name separated by a comma and a space\n",
    "faculty_list['Name'] = faculty_list['Last Name'] + \", \" + faculty_list['First Name']\n",
    "\n",
    "# selecting name and email address columns\n",
    "faculty_list = faculty_list[['Name','Academic Unit']]"
   ]
  },
  {
   "cell_type": "code",
   "execution_count": 1020,
   "id": "94e3dcff",
   "metadata": {},
   "outputs": [],
   "source": [
    "# merging the data so that the correct email address is appended to the correct person\n",
    "all_data = all_data.merge(faculty_list, left_on = 'Evaluator', right_on = 'Name', how = 'inner')"
   ]
  },
  {
   "cell_type": "code",
   "execution_count": 1021,
   "id": "c4beda0f",
   "metadata": {},
   "outputs": [],
   "source": [
    "all_data = all_data.drop(['Name'], axis = 1)"
   ]
  },
  {
   "cell_type": "code",
   "execution_count": 1022,
   "id": "9420922d",
   "metadata": {},
   "outputs": [
    {
     "data": {
      "text/html": [
       "<div>\n",
       "<style scoped>\n",
       "    .dataframe tbody tr th:only-of-type {\n",
       "        vertical-align: middle;\n",
       "    }\n",
       "\n",
       "    .dataframe tbody tr th {\n",
       "        vertical-align: top;\n",
       "    }\n",
       "\n",
       "    .dataframe thead th {\n",
       "        text-align: right;\n",
       "    }\n",
       "</style>\n",
       "<table border=\"1\" class=\"dataframe\">\n",
       "  <thead>\n",
       "    <tr style=\"text-align: right;\">\n",
       "      <th></th>\n",
       "      <th>Evaluator</th>\n",
       "      <th>Evaluation</th>\n",
       "      <th>Type</th>\n",
       "      <th>Status</th>\n",
       "      <th>Issued</th>\n",
       "      <th>Completed</th>\n",
       "      <th>Rotation</th>\n",
       "      <th>Academic Unit</th>\n",
       "    </tr>\n",
       "  </thead>\n",
       "  <tbody>\n",
       "    <tr>\n",
       "      <th>0</th>\n",
       "      <td>Jason Brown</td>\n",
       "      <td>Jacqueline Ball</td>\n",
       "      <td>Faculty evaluation of a resident</td>\n",
       "      <td>Incomplete</td>\n",
       "      <td>3/6/2023</td>\n",
       "      <td>NaN</td>\n",
       "      <td>2/1-2/28/2023</td>\n",
       "      <td>Endocrinology</td>\n",
       "    </tr>\n",
       "    <tr>\n",
       "      <th>1</th>\n",
       "      <td>Jason Brown</td>\n",
       "      <td>Jacqueline Ball</td>\n",
       "      <td>Faculty evaluation of a resident</td>\n",
       "      <td>Complete</td>\n",
       "      <td>1/6/2023</td>\n",
       "      <td>2/5/2023</td>\n",
       "      <td>12/1-12/31/2022</td>\n",
       "      <td>Endocrinology</td>\n",
       "    </tr>\n",
       "    <tr>\n",
       "      <th>2</th>\n",
       "      <td>Jason Brown</td>\n",
       "      <td>Christine Lane</td>\n",
       "      <td>Faculty evaluation of a resident</td>\n",
       "      <td>Complete</td>\n",
       "      <td>12/19/2022</td>\n",
       "      <td>2/5/2023</td>\n",
       "      <td>10/1-10/31/2022</td>\n",
       "      <td>Endocrinology</td>\n",
       "    </tr>\n",
       "    <tr>\n",
       "      <th>3</th>\n",
       "      <td>Jason Brown</td>\n",
       "      <td>Christine Lane</td>\n",
       "      <td>Faculty evaluation of a resident</td>\n",
       "      <td>Complete</td>\n",
       "      <td>9/29/2022</td>\n",
       "      <td>12/6/2022</td>\n",
       "      <td>9/1-9/30/2022</td>\n",
       "      <td>Endocrinology</td>\n",
       "    </tr>\n",
       "    <tr>\n",
       "      <th>4</th>\n",
       "      <td>Jason Brown</td>\n",
       "      <td>Lawrence Ramos</td>\n",
       "      <td>Faculty evaluation of a student</td>\n",
       "      <td>Complete</td>\n",
       "      <td>11/3/2022</td>\n",
       "      <td>12/6/2022</td>\n",
       "      <td>10/24-11/4/2022</td>\n",
       "      <td>Endocrinology</td>\n",
       "    </tr>\n",
       "  </tbody>\n",
       "</table>\n",
       "</div>"
      ],
      "text/plain": [
       "     Evaluator       Evaluation                              Type      Status  \\\n",
       "0  Jason Brown  Jacqueline Ball  Faculty evaluation of a resident  Incomplete   \n",
       "1  Jason Brown  Jacqueline Ball  Faculty evaluation of a resident    Complete   \n",
       "2  Jason Brown   Christine Lane  Faculty evaluation of a resident    Complete   \n",
       "3  Jason Brown   Christine Lane  Faculty evaluation of a resident    Complete   \n",
       "4  Jason Brown   Lawrence Ramos   Faculty evaluation of a student    Complete   \n",
       "\n",
       "       Issued  Completed         Rotation  Academic Unit  \n",
       "0    3/6/2023        NaN    2/1-2/28/2023  Endocrinology  \n",
       "1    1/6/2023   2/5/2023  12/1-12/31/2022  Endocrinology  \n",
       "2  12/19/2022   2/5/2023  10/1-10/31/2022  Endocrinology  \n",
       "3   9/29/2022  12/6/2022    9/1-9/30/2022  Endocrinology  \n",
       "4   11/3/2022  12/6/2022  10/24-11/4/2022  Endocrinology  "
      ]
     },
     "execution_count": 1022,
     "metadata": {},
     "output_type": "execute_result"
    }
   ],
   "source": [
    "# creating a list of fake names to annonymize my dataset\n",
    "\n",
    "faker = Faker()\n",
    "\n",
    "# seed the random generator to produce the same results\n",
    "Faker.seed(4321)\n",
    "\n",
    "# creating fake names for Evaluator column\n",
    "dict_names = {name: faker.name() for name in all_data['Evaluator'].unique()}\n",
    "all_data['Evaluator'] = all_data['Evaluator'].map(dict_names)\n",
    "\n",
    "# creatin fakes names for evaluation column\n",
    "dict_names = {name: faker.name() for name in all_data['Evaluation'].unique()}\n",
    "all_data['Evaluation'] = (all_data['Evaluation'].map(dict_names))\n",
    "                                                \n",
    "\n",
    "all_data.head()"
   ]
  },
  {
   "cell_type": "code",
   "execution_count": 1023,
   "id": "95e360fc",
   "metadata": {},
   "outputs": [
    {
     "data": {
      "text/html": [
       "<div>\n",
       "<style scoped>\n",
       "    .dataframe tbody tr th:only-of-type {\n",
       "        vertical-align: middle;\n",
       "    }\n",
       "\n",
       "    .dataframe tbody tr th {\n",
       "        vertical-align: top;\n",
       "    }\n",
       "\n",
       "    .dataframe thead th {\n",
       "        text-align: right;\n",
       "    }\n",
       "</style>\n",
       "<table border=\"1\" class=\"dataframe\">\n",
       "  <thead>\n",
       "    <tr style=\"text-align: right;\">\n",
       "      <th></th>\n",
       "      <th>Evaluator</th>\n",
       "      <th>Evaluation</th>\n",
       "      <th>Type</th>\n",
       "      <th>Status</th>\n",
       "      <th>Issued</th>\n",
       "      <th>Completed</th>\n",
       "      <th>Rotation</th>\n",
       "      <th>Academic Unit</th>\n",
       "    </tr>\n",
       "  </thead>\n",
       "  <tbody>\n",
       "    <tr>\n",
       "      <th>0</th>\n",
       "      <td>Jason Brown</td>\n",
       "      <td>Jacqueline Ball</td>\n",
       "      <td>Faculty evaluation of a resident</td>\n",
       "      <td>Incomplete</td>\n",
       "      <td>3/6/2023</td>\n",
       "      <td>NaN</td>\n",
       "      <td>2/1-2/28/2023</td>\n",
       "      <td>Endocrinology</td>\n",
       "    </tr>\n",
       "    <tr>\n",
       "      <th>1</th>\n",
       "      <td>Jason Brown</td>\n",
       "      <td>Jacqueline Ball</td>\n",
       "      <td>Faculty evaluation of a resident</td>\n",
       "      <td>Complete</td>\n",
       "      <td>1/6/2023</td>\n",
       "      <td>2/5/2023</td>\n",
       "      <td>12/1-12/31/2022</td>\n",
       "      <td>Endocrinology</td>\n",
       "    </tr>\n",
       "    <tr>\n",
       "      <th>2</th>\n",
       "      <td>Jason Brown</td>\n",
       "      <td>Christine Lane</td>\n",
       "      <td>Faculty evaluation of a resident</td>\n",
       "      <td>Complete</td>\n",
       "      <td>12/19/2022</td>\n",
       "      <td>2/5/2023</td>\n",
       "      <td>10/1-10/31/2022</td>\n",
       "      <td>Endocrinology</td>\n",
       "    </tr>\n",
       "    <tr>\n",
       "      <th>3</th>\n",
       "      <td>Jason Brown</td>\n",
       "      <td>Christine Lane</td>\n",
       "      <td>Faculty evaluation of a resident</td>\n",
       "      <td>Complete</td>\n",
       "      <td>9/29/2022</td>\n",
       "      <td>12/6/2022</td>\n",
       "      <td>9/1-9/30/2022</td>\n",
       "      <td>Endocrinology</td>\n",
       "    </tr>\n",
       "    <tr>\n",
       "      <th>4</th>\n",
       "      <td>Jason Brown</td>\n",
       "      <td>Lawrence Ramos</td>\n",
       "      <td>Faculty evaluation of a student</td>\n",
       "      <td>Complete</td>\n",
       "      <td>11/3/2022</td>\n",
       "      <td>12/6/2022</td>\n",
       "      <td>10/24-11/4/2022</td>\n",
       "      <td>Endocrinology</td>\n",
       "    </tr>\n",
       "    <tr>\n",
       "      <th>...</th>\n",
       "      <td>...</td>\n",
       "      <td>...</td>\n",
       "      <td>...</td>\n",
       "      <td>...</td>\n",
       "      <td>...</td>\n",
       "      <td>...</td>\n",
       "      <td>...</td>\n",
       "      <td>...</td>\n",
       "    </tr>\n",
       "    <tr>\n",
       "      <th>1645</th>\n",
       "      <td>Curtis Cross</td>\n",
       "      <td>Eric Hoffman</td>\n",
       "      <td>Faculty evaluation of a resident</td>\n",
       "      <td>Complete</td>\n",
       "      <td>9/1/2022</td>\n",
       "      <td>9/27/2022</td>\n",
       "      <td>NaN</td>\n",
       "      <td>Neurology (Pediatrics)</td>\n",
       "    </tr>\n",
       "    <tr>\n",
       "      <th>1646</th>\n",
       "      <td>Curtis Cross</td>\n",
       "      <td>Christopher Lopez</td>\n",
       "      <td>Faculty evaluation of a resident</td>\n",
       "      <td>Complete</td>\n",
       "      <td>8/25/2022</td>\n",
       "      <td>9/27/2022</td>\n",
       "      <td>NaN</td>\n",
       "      <td>Neurology (Pediatrics)</td>\n",
       "    </tr>\n",
       "    <tr>\n",
       "      <th>1647</th>\n",
       "      <td>Curtis Cross</td>\n",
       "      <td>Eric Hoffman</td>\n",
       "      <td>Faculty evaluation of a resident</td>\n",
       "      <td>Complete</td>\n",
       "      <td>8/25/2022</td>\n",
       "      <td>10/4/2022</td>\n",
       "      <td>NaN</td>\n",
       "      <td>Neurology (Pediatrics)</td>\n",
       "    </tr>\n",
       "    <tr>\n",
       "      <th>1648</th>\n",
       "      <td>Christopher Martinez</td>\n",
       "      <td>Jacqueline Carter</td>\n",
       "      <td>Faculty evaluation of a resident</td>\n",
       "      <td>Complete</td>\n",
       "      <td>8/16/2022</td>\n",
       "      <td>8/23/2022</td>\n",
       "      <td>8/3-8/16/2022</td>\n",
       "      <td>Emergency Medicine</td>\n",
       "    </tr>\n",
       "    <tr>\n",
       "      <th>1649</th>\n",
       "      <td>Jose Branch</td>\n",
       "      <td>Kathryn George</td>\n",
       "      <td>Faculty evaluation of a resident</td>\n",
       "      <td>Complete</td>\n",
       "      <td>8/1/2022</td>\n",
       "      <td>10/5/2022</td>\n",
       "      <td>7/6-7/19/2022</td>\n",
       "      <td>Neonatology</td>\n",
       "    </tr>\n",
       "  </tbody>\n",
       "</table>\n",
       "<p>1650 rows × 8 columns</p>\n",
       "</div>"
      ],
      "text/plain": [
       "                 Evaluator         Evaluation  \\\n",
       "0              Jason Brown    Jacqueline Ball   \n",
       "1              Jason Brown    Jacqueline Ball   \n",
       "2              Jason Brown     Christine Lane   \n",
       "3              Jason Brown     Christine Lane   \n",
       "4              Jason Brown     Lawrence Ramos   \n",
       "...                    ...                ...   \n",
       "1645          Curtis Cross       Eric Hoffman   \n",
       "1646          Curtis Cross  Christopher Lopez   \n",
       "1647          Curtis Cross       Eric Hoffman   \n",
       "1648  Christopher Martinez  Jacqueline Carter   \n",
       "1649           Jose Branch     Kathryn George   \n",
       "\n",
       "                                  Type      Status      Issued  Completed  \\\n",
       "0     Faculty evaluation of a resident  Incomplete    3/6/2023        NaN   \n",
       "1     Faculty evaluation of a resident    Complete    1/6/2023   2/5/2023   \n",
       "2     Faculty evaluation of a resident    Complete  12/19/2022   2/5/2023   \n",
       "3     Faculty evaluation of a resident    Complete   9/29/2022  12/6/2022   \n",
       "4      Faculty evaluation of a student    Complete   11/3/2022  12/6/2022   \n",
       "...                                ...         ...         ...        ...   \n",
       "1645  Faculty evaluation of a resident    Complete    9/1/2022  9/27/2022   \n",
       "1646  Faculty evaluation of a resident    Complete   8/25/2022  9/27/2022   \n",
       "1647  Faculty evaluation of a resident    Complete   8/25/2022  10/4/2022   \n",
       "1648  Faculty evaluation of a resident    Complete   8/16/2022  8/23/2022   \n",
       "1649  Faculty evaluation of a resident    Complete    8/1/2022  10/5/2022   \n",
       "\n",
       "             Rotation           Academic Unit  \n",
       "0       2/1-2/28/2023           Endocrinology  \n",
       "1     12/1-12/31/2022           Endocrinology  \n",
       "2     10/1-10/31/2022           Endocrinology  \n",
       "3       9/1-9/30/2022           Endocrinology  \n",
       "4     10/24-11/4/2022           Endocrinology  \n",
       "...               ...                     ...  \n",
       "1645              NaN  Neurology (Pediatrics)  \n",
       "1646              NaN  Neurology (Pediatrics)  \n",
       "1647              NaN  Neurology (Pediatrics)  \n",
       "1648    8/3-8/16/2022      Emergency Medicine  \n",
       "1649    7/6-7/19/2022             Neonatology  \n",
       "\n",
       "[1650 rows x 8 columns]"
      ]
     },
     "execution_count": 1023,
     "metadata": {},
     "output_type": "execute_result"
    }
   ],
   "source": [
    "final_features = all_data.copy()\n",
    "final_features"
   ]
  },
  {
   "cell_type": "code",
   "execution_count": 1024,
   "id": "22dd6ae8",
   "metadata": {},
   "outputs": [],
   "source": [
    "final_features.to_csv('demo_full_raw_data.csv')"
   ]
  },
  {
   "cell_type": "code",
   "execution_count": 1025,
   "id": "49079f5e",
   "metadata": {},
   "outputs": [],
   "source": [
    "# saving a copy of the features datset to rates\n",
    "rates = final_features.copy()"
   ]
  },
  {
   "cell_type": "code",
   "execution_count": 1026,
   "id": "d6df3bce",
   "metadata": {},
   "outputs": [],
   "source": [
    "rates['Issued'], rates['Completed'] = pd.to_datetime(rates['Issued']), pd.to_datetime(rates['Completed'])"
   ]
  },
  {
   "cell_type": "code",
   "execution_count": 1027,
   "id": "b83984ae",
   "metadata": {},
   "outputs": [
    {
     "data": {
      "text/html": [
       "<div>\n",
       "<style scoped>\n",
       "    .dataframe tbody tr th:only-of-type {\n",
       "        vertical-align: middle;\n",
       "    }\n",
       "\n",
       "    .dataframe tbody tr th {\n",
       "        vertical-align: top;\n",
       "    }\n",
       "\n",
       "    .dataframe thead th {\n",
       "        text-align: right;\n",
       "    }\n",
       "</style>\n",
       "<table border=\"1\" class=\"dataframe\">\n",
       "  <thead>\n",
       "    <tr style=\"text-align: right;\">\n",
       "      <th></th>\n",
       "      <th>Evaluator</th>\n",
       "      <th>Evaluation</th>\n",
       "      <th>Type</th>\n",
       "      <th>Status</th>\n",
       "      <th>Issued</th>\n",
       "      <th>Completed</th>\n",
       "      <th>Rotation</th>\n",
       "      <th>Academic Unit</th>\n",
       "    </tr>\n",
       "  </thead>\n",
       "  <tbody>\n",
       "    <tr>\n",
       "      <th>0</th>\n",
       "      <td>Jason Brown</td>\n",
       "      <td>Jacqueline Ball</td>\n",
       "      <td>Faculty evaluation of a resident</td>\n",
       "      <td>Incomplete</td>\n",
       "      <td>2023-03-06</td>\n",
       "      <td>NaT</td>\n",
       "      <td>2/1-2/28/2023</td>\n",
       "      <td>Endocrinology</td>\n",
       "    </tr>\n",
       "    <tr>\n",
       "      <th>1</th>\n",
       "      <td>Jason Brown</td>\n",
       "      <td>Jacqueline Ball</td>\n",
       "      <td>Faculty evaluation of a resident</td>\n",
       "      <td>Complete</td>\n",
       "      <td>2023-01-06</td>\n",
       "      <td>2023-02-05</td>\n",
       "      <td>12/1-12/31/2022</td>\n",
       "      <td>Endocrinology</td>\n",
       "    </tr>\n",
       "    <tr>\n",
       "      <th>2</th>\n",
       "      <td>Jason Brown</td>\n",
       "      <td>Christine Lane</td>\n",
       "      <td>Faculty evaluation of a resident</td>\n",
       "      <td>Complete</td>\n",
       "      <td>2022-12-19</td>\n",
       "      <td>2023-02-05</td>\n",
       "      <td>10/1-10/31/2022</td>\n",
       "      <td>Endocrinology</td>\n",
       "    </tr>\n",
       "    <tr>\n",
       "      <th>3</th>\n",
       "      <td>Jason Brown</td>\n",
       "      <td>Christine Lane</td>\n",
       "      <td>Faculty evaluation of a resident</td>\n",
       "      <td>Complete</td>\n",
       "      <td>2022-09-29</td>\n",
       "      <td>2022-12-06</td>\n",
       "      <td>9/1-9/30/2022</td>\n",
       "      <td>Endocrinology</td>\n",
       "    </tr>\n",
       "    <tr>\n",
       "      <th>4</th>\n",
       "      <td>Jason Brown</td>\n",
       "      <td>Lawrence Ramos</td>\n",
       "      <td>Faculty evaluation of a student</td>\n",
       "      <td>Complete</td>\n",
       "      <td>2022-11-03</td>\n",
       "      <td>2022-12-06</td>\n",
       "      <td>10/24-11/4/2022</td>\n",
       "      <td>Endocrinology</td>\n",
       "    </tr>\n",
       "    <tr>\n",
       "      <th>...</th>\n",
       "      <td>...</td>\n",
       "      <td>...</td>\n",
       "      <td>...</td>\n",
       "      <td>...</td>\n",
       "      <td>...</td>\n",
       "      <td>...</td>\n",
       "      <td>...</td>\n",
       "      <td>...</td>\n",
       "    </tr>\n",
       "    <tr>\n",
       "      <th>1645</th>\n",
       "      <td>Curtis Cross</td>\n",
       "      <td>Eric Hoffman</td>\n",
       "      <td>Faculty evaluation of a resident</td>\n",
       "      <td>Complete</td>\n",
       "      <td>2022-09-01</td>\n",
       "      <td>2022-09-27</td>\n",
       "      <td>NaN</td>\n",
       "      <td>Neurology (Pediatrics)</td>\n",
       "    </tr>\n",
       "    <tr>\n",
       "      <th>1646</th>\n",
       "      <td>Curtis Cross</td>\n",
       "      <td>Christopher Lopez</td>\n",
       "      <td>Faculty evaluation of a resident</td>\n",
       "      <td>Complete</td>\n",
       "      <td>2022-08-25</td>\n",
       "      <td>2022-09-27</td>\n",
       "      <td>NaN</td>\n",
       "      <td>Neurology (Pediatrics)</td>\n",
       "    </tr>\n",
       "    <tr>\n",
       "      <th>1647</th>\n",
       "      <td>Curtis Cross</td>\n",
       "      <td>Eric Hoffman</td>\n",
       "      <td>Faculty evaluation of a resident</td>\n",
       "      <td>Complete</td>\n",
       "      <td>2022-08-25</td>\n",
       "      <td>2022-10-04</td>\n",
       "      <td>NaN</td>\n",
       "      <td>Neurology (Pediatrics)</td>\n",
       "    </tr>\n",
       "    <tr>\n",
       "      <th>1648</th>\n",
       "      <td>Christopher Martinez</td>\n",
       "      <td>Jacqueline Carter</td>\n",
       "      <td>Faculty evaluation of a resident</td>\n",
       "      <td>Complete</td>\n",
       "      <td>2022-08-16</td>\n",
       "      <td>2022-08-23</td>\n",
       "      <td>8/3-8/16/2022</td>\n",
       "      <td>Emergency Medicine</td>\n",
       "    </tr>\n",
       "    <tr>\n",
       "      <th>1649</th>\n",
       "      <td>Jose Branch</td>\n",
       "      <td>Kathryn George</td>\n",
       "      <td>Faculty evaluation of a resident</td>\n",
       "      <td>Complete</td>\n",
       "      <td>2022-08-01</td>\n",
       "      <td>2022-10-05</td>\n",
       "      <td>7/6-7/19/2022</td>\n",
       "      <td>Neonatology</td>\n",
       "    </tr>\n",
       "  </tbody>\n",
       "</table>\n",
       "<p>1650 rows × 8 columns</p>\n",
       "</div>"
      ],
      "text/plain": [
       "                 Evaluator         Evaluation  \\\n",
       "0              Jason Brown    Jacqueline Ball   \n",
       "1              Jason Brown    Jacqueline Ball   \n",
       "2              Jason Brown     Christine Lane   \n",
       "3              Jason Brown     Christine Lane   \n",
       "4              Jason Brown     Lawrence Ramos   \n",
       "...                    ...                ...   \n",
       "1645          Curtis Cross       Eric Hoffman   \n",
       "1646          Curtis Cross  Christopher Lopez   \n",
       "1647          Curtis Cross       Eric Hoffman   \n",
       "1648  Christopher Martinez  Jacqueline Carter   \n",
       "1649           Jose Branch     Kathryn George   \n",
       "\n",
       "                                  Type      Status     Issued  Completed  \\\n",
       "0     Faculty evaluation of a resident  Incomplete 2023-03-06        NaT   \n",
       "1     Faculty evaluation of a resident    Complete 2023-01-06 2023-02-05   \n",
       "2     Faculty evaluation of a resident    Complete 2022-12-19 2023-02-05   \n",
       "3     Faculty evaluation of a resident    Complete 2022-09-29 2022-12-06   \n",
       "4      Faculty evaluation of a student    Complete 2022-11-03 2022-12-06   \n",
       "...                                ...         ...        ...        ...   \n",
       "1645  Faculty evaluation of a resident    Complete 2022-09-01 2022-09-27   \n",
       "1646  Faculty evaluation of a resident    Complete 2022-08-25 2022-09-27   \n",
       "1647  Faculty evaluation of a resident    Complete 2022-08-25 2022-10-04   \n",
       "1648  Faculty evaluation of a resident    Complete 2022-08-16 2022-08-23   \n",
       "1649  Faculty evaluation of a resident    Complete 2022-08-01 2022-10-05   \n",
       "\n",
       "             Rotation           Academic Unit  \n",
       "0       2/1-2/28/2023           Endocrinology  \n",
       "1     12/1-12/31/2022           Endocrinology  \n",
       "2     10/1-10/31/2022           Endocrinology  \n",
       "3       9/1-9/30/2022           Endocrinology  \n",
       "4     10/24-11/4/2022           Endocrinology  \n",
       "...               ...                     ...  \n",
       "1645              NaN  Neurology (Pediatrics)  \n",
       "1646              NaN  Neurology (Pediatrics)  \n",
       "1647              NaN  Neurology (Pediatrics)  \n",
       "1648    8/3-8/16/2022      Emergency Medicine  \n",
       "1649    7/6-7/19/2022             Neonatology  \n",
       "\n",
       "[1650 rows x 8 columns]"
      ]
     },
     "execution_count": 1027,
     "metadata": {},
     "output_type": "execute_result"
    }
   ],
   "source": [
    "rates"
   ]
  },
  {
   "cell_type": "code",
   "execution_count": 1028,
   "id": "f641866b",
   "metadata": {
    "scrolled": true
   },
   "outputs": [
    {
     "name": "stderr",
     "output_type": "stream",
     "text": [
      "/var/folders/0p/p58ht82n5l7dt1tyyssbh6dh0000gn/T/ipykernel_24745/2167426754.py:11: SettingWithCopyWarning: \n",
      "A value is trying to be set on a copy of a slice from a DataFrame.\n",
      "Try using .loc[row_indexer,col_indexer] = value instead\n",
      "\n",
      "See the caveats in the documentation: https://pandas.pydata.org/pandas-docs/stable/user_guide/indexing.html#returning-a-view-versus-a-copy\n",
      "  incomplete_col['Incomplete as Of'] = incomplete_col['Completed'].fillna(date.today())\n",
      "/var/folders/0p/p58ht82n5l7dt1tyyssbh6dh0000gn/T/ipykernel_24745/2167426754.py:14: SettingWithCopyWarning: \n",
      "A value is trying to be set on a copy of a slice from a DataFrame.\n",
      "Try using .loc[row_indexer,col_indexer] = value instead\n",
      "\n",
      "See the caveats in the documentation: https://pandas.pydata.org/pandas-docs/stable/user_guide/indexing.html#returning-a-view-versus-a-copy\n",
      "  incomplete_col['Incomplete as Of'] = pd.DataFrame(pd.to_datetime(incomplete_col['Incomplete as Of']))\n"
     ]
    }
   ],
   "source": [
    "# creating a column called incomplete_as_of\n",
    "# WHY?: Where a row has a status of \"incomplete\", the complete cell is NAN... I want that to be a date,\n",
    "# so that i can use it to add and subtract from other dates. So I am filling it with a date that will be\n",
    "# date.today(), so whenever the report is ran, it has a date of that date the report is ran.\n",
    "\n",
    "from datetime import date\n",
    "# using the rates dataset to filter rows where the status = incomplete. saving new dataset to incomplete_col\n",
    "incomplete_col  = rates.loc[rates['Status'] == 'Incomplete']\n",
    "\n",
    "# creating a column called \"incomplete as of\" , and filling NAs the completed tab with todays date\n",
    "incomplete_col['Incomplete as Of'] = incomplete_col['Completed'].fillna(date.today())\n",
    "\n",
    "# changing the data type to date_time, so it can be subtracted/added to other dates of the same type\n",
    "incomplete_col['Incomplete as Of'] = pd.DataFrame(pd.to_datetime(incomplete_col['Incomplete as Of']))\n",
    "\n",
    "#saving only the Incomplete as of column to the incomplete_col variable\n",
    "incomplete_col = incomplete_col['Incomplete as Of']"
   ]
  },
  {
   "cell_type": "code",
   "execution_count": 1029,
   "id": "6d42828a",
   "metadata": {},
   "outputs": [
    {
     "data": {
      "text/html": [
       "<div>\n",
       "<style scoped>\n",
       "    .dataframe tbody tr th:only-of-type {\n",
       "        vertical-align: middle;\n",
       "    }\n",
       "\n",
       "    .dataframe tbody tr th {\n",
       "        vertical-align: top;\n",
       "    }\n",
       "\n",
       "    .dataframe thead th {\n",
       "        text-align: right;\n",
       "    }\n",
       "</style>\n",
       "<table border=\"1\" class=\"dataframe\">\n",
       "  <thead>\n",
       "    <tr style=\"text-align: right;\">\n",
       "      <th></th>\n",
       "      <th>Evaluator</th>\n",
       "      <th>Evaluation</th>\n",
       "      <th>Type</th>\n",
       "      <th>Status</th>\n",
       "      <th>Issued</th>\n",
       "      <th>Completed</th>\n",
       "      <th>Rotation</th>\n",
       "      <th>Academic Unit</th>\n",
       "      <th>Incomplete as Of</th>\n",
       "    </tr>\n",
       "  </thead>\n",
       "  <tbody>\n",
       "    <tr>\n",
       "      <th>0</th>\n",
       "      <td>Jason Brown</td>\n",
       "      <td>Jacqueline Ball</td>\n",
       "      <td>Faculty evaluation of a resident</td>\n",
       "      <td>Incomplete</td>\n",
       "      <td>2023-03-06</td>\n",
       "      <td>NaT</td>\n",
       "      <td>2/1-2/28/2023</td>\n",
       "      <td>Endocrinology</td>\n",
       "      <td>2023-03-27</td>\n",
       "    </tr>\n",
       "    <tr>\n",
       "      <th>1</th>\n",
       "      <td>Jason Brown</td>\n",
       "      <td>Jacqueline Ball</td>\n",
       "      <td>Faculty evaluation of a resident</td>\n",
       "      <td>Complete</td>\n",
       "      <td>2023-01-06</td>\n",
       "      <td>2023-02-05</td>\n",
       "      <td>12/1-12/31/2022</td>\n",
       "      <td>Endocrinology</td>\n",
       "      <td>NaT</td>\n",
       "    </tr>\n",
       "    <tr>\n",
       "      <th>2</th>\n",
       "      <td>Jason Brown</td>\n",
       "      <td>Christine Lane</td>\n",
       "      <td>Faculty evaluation of a resident</td>\n",
       "      <td>Complete</td>\n",
       "      <td>2022-12-19</td>\n",
       "      <td>2023-02-05</td>\n",
       "      <td>10/1-10/31/2022</td>\n",
       "      <td>Endocrinology</td>\n",
       "      <td>NaT</td>\n",
       "    </tr>\n",
       "    <tr>\n",
       "      <th>3</th>\n",
       "      <td>Jason Brown</td>\n",
       "      <td>Christine Lane</td>\n",
       "      <td>Faculty evaluation of a resident</td>\n",
       "      <td>Complete</td>\n",
       "      <td>2022-09-29</td>\n",
       "      <td>2022-12-06</td>\n",
       "      <td>9/1-9/30/2022</td>\n",
       "      <td>Endocrinology</td>\n",
       "      <td>NaT</td>\n",
       "    </tr>\n",
       "    <tr>\n",
       "      <th>4</th>\n",
       "      <td>Jason Brown</td>\n",
       "      <td>Lawrence Ramos</td>\n",
       "      <td>Faculty evaluation of a student</td>\n",
       "      <td>Complete</td>\n",
       "      <td>2022-11-03</td>\n",
       "      <td>2022-12-06</td>\n",
       "      <td>10/24-11/4/2022</td>\n",
       "      <td>Endocrinology</td>\n",
       "      <td>NaT</td>\n",
       "    </tr>\n",
       "  </tbody>\n",
       "</table>\n",
       "</div>"
      ],
      "text/plain": [
       "     Evaluator       Evaluation                              Type      Status  \\\n",
       "0  Jason Brown  Jacqueline Ball  Faculty evaluation of a resident  Incomplete   \n",
       "1  Jason Brown  Jacqueline Ball  Faculty evaluation of a resident    Complete   \n",
       "2  Jason Brown   Christine Lane  Faculty evaluation of a resident    Complete   \n",
       "3  Jason Brown   Christine Lane  Faculty evaluation of a resident    Complete   \n",
       "4  Jason Brown   Lawrence Ramos   Faculty evaluation of a student    Complete   \n",
       "\n",
       "      Issued  Completed         Rotation  Academic Unit Incomplete as Of  \n",
       "0 2023-03-06        NaT    2/1-2/28/2023  Endocrinology       2023-03-27  \n",
       "1 2023-01-06 2023-02-05  12/1-12/31/2022  Endocrinology              NaT  \n",
       "2 2022-12-19 2023-02-05  10/1-10/31/2022  Endocrinology              NaT  \n",
       "3 2022-09-29 2022-12-06    9/1-9/30/2022  Endocrinology              NaT  \n",
       "4 2022-11-03 2022-12-06  10/24-11/4/2022  Endocrinology              NaT  "
      ]
     },
     "execution_count": 1029,
     "metadata": {},
     "output_type": "execute_result"
    }
   ],
   "source": [
    "# joining the incomplete_col to the full rates data set by index, so the merge happens on the same index\n",
    "# only index with there is an NAN will be impacted, being filled with the date the day the report is ran\n",
    "\n",
    "rates = rates.join(incomplete_col)\n",
    "rates.head()"
   ]
  },
  {
   "cell_type": "code",
   "execution_count": 1030,
   "id": "a9900352",
   "metadata": {
    "scrolled": true
   },
   "outputs": [
    {
     "data": {
      "text/plain": [
       "Evaluator                   object\n",
       "Evaluation                  object\n",
       "Type                        object\n",
       "Status                      object\n",
       "Issued              datetime64[ns]\n",
       "Completed           datetime64[ns]\n",
       "Rotation                    object\n",
       "Academic Unit               object\n",
       "Incomplete as Of    datetime64[ns]\n",
       "dtype: object"
      ]
     },
     "execution_count": 1030,
     "metadata": {},
     "output_type": "execute_result"
    }
   ],
   "source": [
    "rates.dtypes"
   ]
  },
  {
   "cell_type": "markdown",
   "id": "c2fbaf4e",
   "metadata": {},
   "source": [
    "# Data Manipulation\n",
    "### Creating additional columns to express how many evaluations are being completed/left incomplete on a weekly basis"
   ]
  },
  {
   "cell_type": "code",
   "execution_count": 1031,
   "id": "d4f858a7",
   "metadata": {
    "scrolled": true
   },
   "outputs": [],
   "source": [
    "# subtracting the \"completed\" column date from the 'issued' column date to define a \"AVG Time to Complete\" column\n",
    "\n",
    "rates['AVG Time to Complete'] = pd.to_datetime(rates['Completed']) - pd.to_datetime(rates['Issued'])"
   ]
  },
  {
   "cell_type": "code",
   "execution_count": 1032,
   "id": "916a2637",
   "metadata": {},
   "outputs": [
    {
     "data": {
      "text/html": [
       "<div>\n",
       "<style scoped>\n",
       "    .dataframe tbody tr th:only-of-type {\n",
       "        vertical-align: middle;\n",
       "    }\n",
       "\n",
       "    .dataframe tbody tr th {\n",
       "        vertical-align: top;\n",
       "    }\n",
       "\n",
       "    .dataframe thead th {\n",
       "        text-align: right;\n",
       "    }\n",
       "</style>\n",
       "<table border=\"1\" class=\"dataframe\">\n",
       "  <thead>\n",
       "    <tr style=\"text-align: right;\">\n",
       "      <th></th>\n",
       "      <th>Evaluator</th>\n",
       "      <th>Evaluation</th>\n",
       "      <th>Type</th>\n",
       "      <th>Status</th>\n",
       "      <th>Issued</th>\n",
       "      <th>Completed</th>\n",
       "      <th>Rotation</th>\n",
       "      <th>Academic Unit</th>\n",
       "      <th>Incomplete as Of</th>\n",
       "      <th>AVG Time to Complete</th>\n",
       "    </tr>\n",
       "  </thead>\n",
       "  <tbody>\n",
       "    <tr>\n",
       "      <th>0</th>\n",
       "      <td>Jason Brown</td>\n",
       "      <td>Jacqueline Ball</td>\n",
       "      <td>Faculty evaluation of a resident</td>\n",
       "      <td>Incomplete</td>\n",
       "      <td>2023-03-06</td>\n",
       "      <td>NaT</td>\n",
       "      <td>2/1-2/28/2023</td>\n",
       "      <td>Endocrinology</td>\n",
       "      <td>2023-03-27</td>\n",
       "      <td>NaT</td>\n",
       "    </tr>\n",
       "    <tr>\n",
       "      <th>1</th>\n",
       "      <td>Jason Brown</td>\n",
       "      <td>Jacqueline Ball</td>\n",
       "      <td>Faculty evaluation of a resident</td>\n",
       "      <td>Complete</td>\n",
       "      <td>2023-01-06</td>\n",
       "      <td>2023-02-05</td>\n",
       "      <td>12/1-12/31/2022</td>\n",
       "      <td>Endocrinology</td>\n",
       "      <td>NaT</td>\n",
       "      <td>30 days</td>\n",
       "    </tr>\n",
       "    <tr>\n",
       "      <th>2</th>\n",
       "      <td>Jason Brown</td>\n",
       "      <td>Christine Lane</td>\n",
       "      <td>Faculty evaluation of a resident</td>\n",
       "      <td>Complete</td>\n",
       "      <td>2022-12-19</td>\n",
       "      <td>2023-02-05</td>\n",
       "      <td>10/1-10/31/2022</td>\n",
       "      <td>Endocrinology</td>\n",
       "      <td>NaT</td>\n",
       "      <td>48 days</td>\n",
       "    </tr>\n",
       "    <tr>\n",
       "      <th>3</th>\n",
       "      <td>Jason Brown</td>\n",
       "      <td>Christine Lane</td>\n",
       "      <td>Faculty evaluation of a resident</td>\n",
       "      <td>Complete</td>\n",
       "      <td>2022-09-29</td>\n",
       "      <td>2022-12-06</td>\n",
       "      <td>9/1-9/30/2022</td>\n",
       "      <td>Endocrinology</td>\n",
       "      <td>NaT</td>\n",
       "      <td>68 days</td>\n",
       "    </tr>\n",
       "    <tr>\n",
       "      <th>4</th>\n",
       "      <td>Jason Brown</td>\n",
       "      <td>Lawrence Ramos</td>\n",
       "      <td>Faculty evaluation of a student</td>\n",
       "      <td>Complete</td>\n",
       "      <td>2022-11-03</td>\n",
       "      <td>2022-12-06</td>\n",
       "      <td>10/24-11/4/2022</td>\n",
       "      <td>Endocrinology</td>\n",
       "      <td>NaT</td>\n",
       "      <td>33 days</td>\n",
       "    </tr>\n",
       "  </tbody>\n",
       "</table>\n",
       "</div>"
      ],
      "text/plain": [
       "     Evaluator       Evaluation                              Type      Status  \\\n",
       "0  Jason Brown  Jacqueline Ball  Faculty evaluation of a resident  Incomplete   \n",
       "1  Jason Brown  Jacqueline Ball  Faculty evaluation of a resident    Complete   \n",
       "2  Jason Brown   Christine Lane  Faculty evaluation of a resident    Complete   \n",
       "3  Jason Brown   Christine Lane  Faculty evaluation of a resident    Complete   \n",
       "4  Jason Brown   Lawrence Ramos   Faculty evaluation of a student    Complete   \n",
       "\n",
       "      Issued  Completed         Rotation  Academic Unit Incomplete as Of  \\\n",
       "0 2023-03-06        NaT    2/1-2/28/2023  Endocrinology       2023-03-27   \n",
       "1 2023-01-06 2023-02-05  12/1-12/31/2022  Endocrinology              NaT   \n",
       "2 2022-12-19 2023-02-05  10/1-10/31/2022  Endocrinology              NaT   \n",
       "3 2022-09-29 2022-12-06    9/1-9/30/2022  Endocrinology              NaT   \n",
       "4 2022-11-03 2022-12-06  10/24-11/4/2022  Endocrinology              NaT   \n",
       "\n",
       "  AVG Time to Complete  \n",
       "0                  NaT  \n",
       "1              30 days  \n",
       "2              48 days  \n",
       "3              68 days  \n",
       "4              33 days  "
      ]
     },
     "execution_count": 1032,
     "metadata": {},
     "output_type": "execute_result"
    }
   ],
   "source": [
    "rates.head()"
   ]
  },
  {
   "cell_type": "code",
   "execution_count": 1033,
   "id": "de9e6eca",
   "metadata": {
    "scrolled": true
   },
   "outputs": [],
   "source": [
    "# updating the data types\n",
    "#rates['Incomplete as Of'] = pd.to_datetime(rates['Incomplete as Of'])\n",
    "\n",
    "\n",
    "# subtracting the \"incomplete as of\" column (todays date) from the date thart the eval was issued,\n",
    "# to define an \"Incomplete for\" column\n",
    "rates['Incomplete for'] = pd.to_datetime(rates['Incomplete as Of']) - pd.to_datetime(rates['Issued'])"
   ]
  },
  {
   "cell_type": "code",
   "execution_count": 1034,
   "id": "92970d7e",
   "metadata": {},
   "outputs": [
    {
     "data": {
      "text/html": [
       "<div>\n",
       "<style scoped>\n",
       "    .dataframe tbody tr th:only-of-type {\n",
       "        vertical-align: middle;\n",
       "    }\n",
       "\n",
       "    .dataframe tbody tr th {\n",
       "        vertical-align: top;\n",
       "    }\n",
       "\n",
       "    .dataframe thead th {\n",
       "        text-align: right;\n",
       "    }\n",
       "</style>\n",
       "<table border=\"1\" class=\"dataframe\">\n",
       "  <thead>\n",
       "    <tr style=\"text-align: right;\">\n",
       "      <th></th>\n",
       "      <th>Evaluator</th>\n",
       "      <th>Evaluation</th>\n",
       "      <th>Type</th>\n",
       "      <th>Status</th>\n",
       "      <th>Issued</th>\n",
       "      <th>Completed</th>\n",
       "      <th>Rotation</th>\n",
       "      <th>Academic Unit</th>\n",
       "      <th>Incomplete as Of</th>\n",
       "      <th>AVG Time to Complete</th>\n",
       "      <th>Incomplete for</th>\n",
       "    </tr>\n",
       "  </thead>\n",
       "  <tbody>\n",
       "    <tr>\n",
       "      <th>0</th>\n",
       "      <td>Jason Brown</td>\n",
       "      <td>Jacqueline Ball</td>\n",
       "      <td>Faculty evaluation of a resident</td>\n",
       "      <td>Incomplete</td>\n",
       "      <td>2023-03-06</td>\n",
       "      <td>NaT</td>\n",
       "      <td>2/1-2/28/2023</td>\n",
       "      <td>Endocrinology</td>\n",
       "      <td>2023-03-27</td>\n",
       "      <td>NaT</td>\n",
       "      <td>21 days</td>\n",
       "    </tr>\n",
       "    <tr>\n",
       "      <th>1</th>\n",
       "      <td>Jason Brown</td>\n",
       "      <td>Jacqueline Ball</td>\n",
       "      <td>Faculty evaluation of a resident</td>\n",
       "      <td>Complete</td>\n",
       "      <td>2023-01-06</td>\n",
       "      <td>2023-02-05</td>\n",
       "      <td>12/1-12/31/2022</td>\n",
       "      <td>Endocrinology</td>\n",
       "      <td>NaT</td>\n",
       "      <td>30 days</td>\n",
       "      <td>NaT</td>\n",
       "    </tr>\n",
       "    <tr>\n",
       "      <th>2</th>\n",
       "      <td>Jason Brown</td>\n",
       "      <td>Christine Lane</td>\n",
       "      <td>Faculty evaluation of a resident</td>\n",
       "      <td>Complete</td>\n",
       "      <td>2022-12-19</td>\n",
       "      <td>2023-02-05</td>\n",
       "      <td>10/1-10/31/2022</td>\n",
       "      <td>Endocrinology</td>\n",
       "      <td>NaT</td>\n",
       "      <td>48 days</td>\n",
       "      <td>NaT</td>\n",
       "    </tr>\n",
       "    <tr>\n",
       "      <th>3</th>\n",
       "      <td>Jason Brown</td>\n",
       "      <td>Christine Lane</td>\n",
       "      <td>Faculty evaluation of a resident</td>\n",
       "      <td>Complete</td>\n",
       "      <td>2022-09-29</td>\n",
       "      <td>2022-12-06</td>\n",
       "      <td>9/1-9/30/2022</td>\n",
       "      <td>Endocrinology</td>\n",
       "      <td>NaT</td>\n",
       "      <td>68 days</td>\n",
       "      <td>NaT</td>\n",
       "    </tr>\n",
       "    <tr>\n",
       "      <th>4</th>\n",
       "      <td>Jason Brown</td>\n",
       "      <td>Lawrence Ramos</td>\n",
       "      <td>Faculty evaluation of a student</td>\n",
       "      <td>Complete</td>\n",
       "      <td>2022-11-03</td>\n",
       "      <td>2022-12-06</td>\n",
       "      <td>10/24-11/4/2022</td>\n",
       "      <td>Endocrinology</td>\n",
       "      <td>NaT</td>\n",
       "      <td>33 days</td>\n",
       "      <td>NaT</td>\n",
       "    </tr>\n",
       "  </tbody>\n",
       "</table>\n",
       "</div>"
      ],
      "text/plain": [
       "     Evaluator       Evaluation                              Type      Status  \\\n",
       "0  Jason Brown  Jacqueline Ball  Faculty evaluation of a resident  Incomplete   \n",
       "1  Jason Brown  Jacqueline Ball  Faculty evaluation of a resident    Complete   \n",
       "2  Jason Brown   Christine Lane  Faculty evaluation of a resident    Complete   \n",
       "3  Jason Brown   Christine Lane  Faculty evaluation of a resident    Complete   \n",
       "4  Jason Brown   Lawrence Ramos   Faculty evaluation of a student    Complete   \n",
       "\n",
       "      Issued  Completed         Rotation  Academic Unit Incomplete as Of  \\\n",
       "0 2023-03-06        NaT    2/1-2/28/2023  Endocrinology       2023-03-27   \n",
       "1 2023-01-06 2023-02-05  12/1-12/31/2022  Endocrinology              NaT   \n",
       "2 2022-12-19 2023-02-05  10/1-10/31/2022  Endocrinology              NaT   \n",
       "3 2022-09-29 2022-12-06    9/1-9/30/2022  Endocrinology              NaT   \n",
       "4 2022-11-03 2022-12-06  10/24-11/4/2022  Endocrinology              NaT   \n",
       "\n",
       "  AVG Time to Complete Incomplete for  \n",
       "0                  NaT        21 days  \n",
       "1              30 days            NaT  \n",
       "2              48 days            NaT  \n",
       "3              68 days            NaT  \n",
       "4              33 days            NaT  "
      ]
     },
     "execution_count": 1034,
     "metadata": {},
     "output_type": "execute_result"
    }
   ],
   "source": [
    "fac_avg_comp = rates\n",
    "rates.head()"
   ]
  },
  {
   "cell_type": "code",
   "execution_count": 1035,
   "id": "47019406",
   "metadata": {},
   "outputs": [],
   "source": [
    "# reseting the index (numbers along the left side). inplace = True saves the change to the dataset\n",
    "rates.reset_index(drop = True, inplace = True)"
   ]
  },
  {
   "cell_type": "code",
   "execution_count": 1036,
   "id": "6017e6a0",
   "metadata": {},
   "outputs": [
    {
     "data": {
      "text/html": [
       "<div>\n",
       "<style scoped>\n",
       "    .dataframe tbody tr th:only-of-type {\n",
       "        vertical-align: middle;\n",
       "    }\n",
       "\n",
       "    .dataframe tbody tr th {\n",
       "        vertical-align: top;\n",
       "    }\n",
       "\n",
       "    .dataframe thead th {\n",
       "        text-align: right;\n",
       "    }\n",
       "</style>\n",
       "<table border=\"1\" class=\"dataframe\">\n",
       "  <thead>\n",
       "    <tr style=\"text-align: right;\">\n",
       "      <th></th>\n",
       "      <th>Completed_Within_14</th>\n",
       "    </tr>\n",
       "    <tr>\n",
       "      <th>Issued</th>\n",
       "      <th></th>\n",
       "    </tr>\n",
       "  </thead>\n",
       "  <tbody>\n",
       "    <tr>\n",
       "      <th>2022-07-03</th>\n",
       "      <td>1</td>\n",
       "    </tr>\n",
       "    <tr>\n",
       "      <th>2022-07-10</th>\n",
       "      <td>6</td>\n",
       "    </tr>\n",
       "    <tr>\n",
       "      <th>2022-07-17</th>\n",
       "      <td>15</td>\n",
       "    </tr>\n",
       "    <tr>\n",
       "      <th>2022-07-24</th>\n",
       "      <td>19</td>\n",
       "    </tr>\n",
       "    <tr>\n",
       "      <th>2022-07-31</th>\n",
       "      <td>22</td>\n",
       "    </tr>\n",
       "  </tbody>\n",
       "</table>\n",
       "</div>"
      ],
      "text/plain": [
       "            Completed_Within_14\n",
       "Issued                         \n",
       "2022-07-03                    1\n",
       "2022-07-10                    6\n",
       "2022-07-17                   15\n",
       "2022-07-24                   19\n",
       "2022-07-31                   22"
      ]
     },
     "execution_count": 1036,
     "metadata": {},
     "output_type": "execute_result"
    }
   ],
   "source": [
    "# creating column (grouped by week) for evals that were completed in less than 14 days\n",
    "\n",
    "less_than_14 = rates.loc[rates['AVG Time to Complete'] <= '14 days']\n",
    "less_than_14 = less_than_14.groupby([pd.Grouper(key='Issued',\n",
    "                                                freq = 'W')]).agg(Completed_Within_14 = ('AVG Time to Complete','count'))\n",
    "less_than_14.head()"
   ]
  },
  {
   "cell_type": "code",
   "execution_count": 1037,
   "id": "5beff51f",
   "metadata": {},
   "outputs": [
    {
     "data": {
      "text/html": [
       "<div>\n",
       "<style scoped>\n",
       "    .dataframe tbody tr th:only-of-type {\n",
       "        vertical-align: middle;\n",
       "    }\n",
       "\n",
       "    .dataframe tbody tr th {\n",
       "        vertical-align: top;\n",
       "    }\n",
       "\n",
       "    .dataframe thead th {\n",
       "        text-align: right;\n",
       "    }\n",
       "</style>\n",
       "<table border=\"1\" class=\"dataframe\">\n",
       "  <thead>\n",
       "    <tr style=\"text-align: right;\">\n",
       "      <th></th>\n",
       "      <th>Completed_Within_15_30</th>\n",
       "    </tr>\n",
       "    <tr>\n",
       "      <th>Issued</th>\n",
       "      <th></th>\n",
       "    </tr>\n",
       "  </thead>\n",
       "  <tbody>\n",
       "    <tr>\n",
       "      <th>2022-07-03</th>\n",
       "      <td>1</td>\n",
       "    </tr>\n",
       "    <tr>\n",
       "      <th>2022-07-10</th>\n",
       "      <td>5</td>\n",
       "    </tr>\n",
       "    <tr>\n",
       "      <th>2022-07-17</th>\n",
       "      <td>3</td>\n",
       "    </tr>\n",
       "    <tr>\n",
       "      <th>2022-07-24</th>\n",
       "      <td>8</td>\n",
       "    </tr>\n",
       "    <tr>\n",
       "      <th>2022-07-31</th>\n",
       "      <td>2</td>\n",
       "    </tr>\n",
       "  </tbody>\n",
       "</table>\n",
       "</div>"
      ],
      "text/plain": [
       "            Completed_Within_15_30\n",
       "Issued                            \n",
       "2022-07-03                       1\n",
       "2022-07-10                       5\n",
       "2022-07-17                       3\n",
       "2022-07-24                       8\n",
       "2022-07-31                       2"
      ]
     },
     "execution_count": 1037,
     "metadata": {},
     "output_type": "execute_result"
    }
   ],
   "source": [
    "# creating column (grouped by week) for evals that were completed in 15-30 days\n",
    "\n",
    "btw_15_30 = rates.loc[(rates['AVG Time to Complete'] >= '15 days') & (rates['AVG Time to Complete'] <= '30 days')]\n",
    "btw_15_30 = btw_15_30.groupby([pd.Grouper(key='Issued', freq = 'W')]).agg(Completed_Within_15_30 = ('AVG Time to Complete',\n",
    "                                                                                                    'count'))\n",
    "btw_15_30.head()"
   ]
  },
  {
   "cell_type": "code",
   "execution_count": 1038,
   "id": "12b27443",
   "metadata": {},
   "outputs": [
    {
     "data": {
      "text/html": [
       "<div>\n",
       "<style scoped>\n",
       "    .dataframe tbody tr th:only-of-type {\n",
       "        vertical-align: middle;\n",
       "    }\n",
       "\n",
       "    .dataframe tbody tr th {\n",
       "        vertical-align: top;\n",
       "    }\n",
       "\n",
       "    .dataframe thead th {\n",
       "        text-align: right;\n",
       "    }\n",
       "</style>\n",
       "<table border=\"1\" class=\"dataframe\">\n",
       "  <thead>\n",
       "    <tr style=\"text-align: right;\">\n",
       "      <th></th>\n",
       "      <th>Completed_After_30</th>\n",
       "    </tr>\n",
       "    <tr>\n",
       "      <th>Issued</th>\n",
       "      <th></th>\n",
       "    </tr>\n",
       "  </thead>\n",
       "  <tbody>\n",
       "    <tr>\n",
       "      <th>2022-07-10</th>\n",
       "      <td>4</td>\n",
       "    </tr>\n",
       "    <tr>\n",
       "      <th>2022-07-17</th>\n",
       "      <td>3</td>\n",
       "    </tr>\n",
       "    <tr>\n",
       "      <th>2022-07-24</th>\n",
       "      <td>4</td>\n",
       "    </tr>\n",
       "    <tr>\n",
       "      <th>2022-07-31</th>\n",
       "      <td>8</td>\n",
       "    </tr>\n",
       "    <tr>\n",
       "      <th>2022-08-07</th>\n",
       "      <td>5</td>\n",
       "    </tr>\n",
       "  </tbody>\n",
       "</table>\n",
       "</div>"
      ],
      "text/plain": [
       "            Completed_After_30\n",
       "Issued                        \n",
       "2022-07-10                   4\n",
       "2022-07-17                   3\n",
       "2022-07-24                   4\n",
       "2022-07-31                   8\n",
       "2022-08-07                   5"
      ]
     },
     "execution_count": 1038,
     "metadata": {},
     "output_type": "execute_result"
    }
   ],
   "source": [
    "# creating column (grouped by week) for evals that were completed after 30 days\n",
    "\n",
    "since_issue_30 = rates.loc[rates['AVG Time to Complete'] > '30 days']\n",
    "since_issue_30 = since_issue_30.groupby([pd.Grouper(key='Issued', freq = 'W')]).agg(Completed_After_30 = ('AVG Time to Complete',\n",
    "                                                                                                    'count'))\n",
    "since_issue_30.head()"
   ]
  },
  {
   "cell_type": "code",
   "execution_count": 1039,
   "id": "beefc428",
   "metadata": {},
   "outputs": [
    {
     "data": {
      "text/html": [
       "<div>\n",
       "<style scoped>\n",
       "    .dataframe tbody tr th:only-of-type {\n",
       "        vertical-align: middle;\n",
       "    }\n",
       "\n",
       "    .dataframe tbody tr th {\n",
       "        vertical-align: top;\n",
       "    }\n",
       "\n",
       "    .dataframe thead th {\n",
       "        text-align: right;\n",
       "    }\n",
       "</style>\n",
       "<table border=\"1\" class=\"dataframe\">\n",
       "  <thead>\n",
       "    <tr style=\"text-align: right;\">\n",
       "      <th></th>\n",
       "      <th>Total_Completed</th>\n",
       "    </tr>\n",
       "    <tr>\n",
       "      <th>Issued</th>\n",
       "      <th></th>\n",
       "    </tr>\n",
       "  </thead>\n",
       "  <tbody>\n",
       "    <tr>\n",
       "      <th>2022-07-03</th>\n",
       "      <td>2</td>\n",
       "    </tr>\n",
       "    <tr>\n",
       "      <th>2022-07-10</th>\n",
       "      <td>15</td>\n",
       "    </tr>\n",
       "    <tr>\n",
       "      <th>2022-07-17</th>\n",
       "      <td>21</td>\n",
       "    </tr>\n",
       "    <tr>\n",
       "      <th>2022-07-24</th>\n",
       "      <td>31</td>\n",
       "    </tr>\n",
       "    <tr>\n",
       "      <th>2022-07-31</th>\n",
       "      <td>32</td>\n",
       "    </tr>\n",
       "  </tbody>\n",
       "</table>\n",
       "</div>"
      ],
      "text/plain": [
       "            Total_Completed\n",
       "Issued                     \n",
       "2022-07-03                2\n",
       "2022-07-10               15\n",
       "2022-07-17               21\n",
       "2022-07-24               31\n",
       "2022-07-31               32"
      ]
     },
     "execution_count": 1039,
     "metadata": {},
     "output_type": "execute_result"
    }
   ],
   "source": [
    "# creating column (grouped by week) for evals that were completed\n",
    "\n",
    "complete = rates.loc[rates['AVG Time to Complete'] >= '0 days']\n",
    "complete = complete.groupby([pd.Grouper(key='Issued', freq = 'W')]).agg(Total_Completed = ('AVG Time to Complete',\n",
    "                                                                                                    'count'))\n",
    "complete.head()"
   ]
  },
  {
   "cell_type": "code",
   "execution_count": 1040,
   "id": "9728d54e",
   "metadata": {},
   "outputs": [
    {
     "data": {
      "text/html": [
       "<div>\n",
       "<style scoped>\n",
       "    .dataframe tbody tr th:only-of-type {\n",
       "        vertical-align: middle;\n",
       "    }\n",
       "\n",
       "    .dataframe tbody tr th {\n",
       "        vertical-align: top;\n",
       "    }\n",
       "\n",
       "    .dataframe thead th {\n",
       "        text-align: right;\n",
       "    }\n",
       "</style>\n",
       "<table border=\"1\" class=\"dataframe\">\n",
       "  <thead>\n",
       "    <tr style=\"text-align: right;\">\n",
       "      <th></th>\n",
       "      <th>Incomplete_less_than_14_days</th>\n",
       "    </tr>\n",
       "    <tr>\n",
       "      <th>Issued</th>\n",
       "      <th></th>\n",
       "    </tr>\n",
       "  </thead>\n",
       "  <tbody>\n",
       "    <tr>\n",
       "      <th>2022-07-03</th>\n",
       "      <td>1</td>\n",
       "    </tr>\n",
       "    <tr>\n",
       "      <th>2022-07-10</th>\n",
       "      <td>6</td>\n",
       "    </tr>\n",
       "    <tr>\n",
       "      <th>2022-07-17</th>\n",
       "      <td>15</td>\n",
       "    </tr>\n",
       "    <tr>\n",
       "      <th>2022-07-24</th>\n",
       "      <td>19</td>\n",
       "    </tr>\n",
       "    <tr>\n",
       "      <th>2022-07-31</th>\n",
       "      <td>22</td>\n",
       "    </tr>\n",
       "  </tbody>\n",
       "</table>\n",
       "</div>"
      ],
      "text/plain": [
       "            Incomplete_less_than_14_days\n",
       "Issued                                  \n",
       "2022-07-03                             1\n",
       "2022-07-10                             6\n",
       "2022-07-17                            15\n",
       "2022-07-24                            19\n",
       "2022-07-31                            22"
      ]
     },
     "execution_count": 1040,
     "metadata": {},
     "output_type": "execute_result"
    }
   ],
   "source": [
    "# creating column (grouped by week) for evals that were incompleted and issued less than 14 days ago\n",
    "\n",
    "Less_than_14 = rates.loc[rates['AVG Time to Complete'] <= '14 days']\n",
    "Less_than_14 = Less_than_14.groupby([pd.Grouper(key='Issued', freq = 'W')]).agg(Incomplete_less_than_14_days = ('AVG Time to Complete',\n",
    "                                                                                                    'count'))\n",
    "Less_than_14.head()"
   ]
  },
  {
   "cell_type": "code",
   "execution_count": 1041,
   "id": "155ddee3",
   "metadata": {},
   "outputs": [
    {
     "data": {
      "text/html": [
       "<div>\n",
       "<style scoped>\n",
       "    .dataframe tbody tr th:only-of-type {\n",
       "        vertical-align: middle;\n",
       "    }\n",
       "\n",
       "    .dataframe tbody tr th {\n",
       "        vertical-align: top;\n",
       "    }\n",
       "\n",
       "    .dataframe thead th {\n",
       "        text-align: right;\n",
       "    }\n",
       "</style>\n",
       "<table border=\"1\" class=\"dataframe\">\n",
       "  <thead>\n",
       "    <tr style=\"text-align: right;\">\n",
       "      <th></th>\n",
       "      <th>Incomplete_more_than_14_Days</th>\n",
       "    </tr>\n",
       "    <tr>\n",
       "      <th>Issued</th>\n",
       "      <th></th>\n",
       "    </tr>\n",
       "  </thead>\n",
       "  <tbody>\n",
       "    <tr>\n",
       "      <th>2022-07-10</th>\n",
       "      <td>3</td>\n",
       "    </tr>\n",
       "    <tr>\n",
       "      <th>2022-07-17</th>\n",
       "      <td>5</td>\n",
       "    </tr>\n",
       "    <tr>\n",
       "      <th>2022-07-24</th>\n",
       "      <td>8</td>\n",
       "    </tr>\n",
       "    <tr>\n",
       "      <th>2022-07-31</th>\n",
       "      <td>9</td>\n",
       "    </tr>\n",
       "    <tr>\n",
       "      <th>2022-08-07</th>\n",
       "      <td>3</td>\n",
       "    </tr>\n",
       "  </tbody>\n",
       "</table>\n",
       "</div>"
      ],
      "text/plain": [
       "            Incomplete_more_than_14_Days\n",
       "Issued                                  \n",
       "2022-07-10                             3\n",
       "2022-07-17                             5\n",
       "2022-07-24                             8\n",
       "2022-07-31                             9\n",
       "2022-08-07                             3"
      ]
     },
     "execution_count": 1041,
     "metadata": {},
     "output_type": "execute_result"
    }
   ],
   "source": [
    "# creating column (grouped by week) for evals that were incompleted and issued more than 14 days ago\n",
    "\n",
    "More_14_days = rates.loc[rates['Incomplete for'] >= '15 days']\n",
    "More_14_days = More_14_days.groupby([pd.Grouper(key='Issued', freq = 'W')]).agg(Incomplete_more_than_14_Days = ('Incomplete for',\n",
    "                                                                                                    'count'))\n",
    "More_14_days.head()"
   ]
  },
  {
   "cell_type": "markdown",
   "id": "4899a229",
   "metadata": {},
   "source": [
    "## Joining the previously created data frames"
   ]
  },
  {
   "cell_type": "code",
   "execution_count": 1042,
   "id": "a381eee8",
   "metadata": {
    "scrolled": true
   },
   "outputs": [
    {
     "data": {
      "text/html": [
       "<div>\n",
       "<style scoped>\n",
       "    .dataframe tbody tr th:only-of-type {\n",
       "        vertical-align: middle;\n",
       "    }\n",
       "\n",
       "    .dataframe tbody tr th {\n",
       "        vertical-align: top;\n",
       "    }\n",
       "\n",
       "    .dataframe thead th {\n",
       "        text-align: right;\n",
       "    }\n",
       "</style>\n",
       "<table border=\"1\" class=\"dataframe\">\n",
       "  <thead>\n",
       "    <tr style=\"text-align: right;\">\n",
       "      <th></th>\n",
       "      <th>Issued</th>\n",
       "      <th>Completed_Within_14</th>\n",
       "      <th>Completed_Within_15_30</th>\n",
       "      <th>Completed_After_30</th>\n",
       "      <th>Total_Completed</th>\n",
       "      <th>Incomplete_less_than_14_days</th>\n",
       "      <th>Incomplete_more_than_14_Days</th>\n",
       "    </tr>\n",
       "  </thead>\n",
       "  <tbody>\n",
       "    <tr>\n",
       "      <th>0</th>\n",
       "      <td>2022-07-03</td>\n",
       "      <td>1</td>\n",
       "      <td>1.0</td>\n",
       "      <td>0.0</td>\n",
       "      <td>2</td>\n",
       "      <td>1</td>\n",
       "      <td>0.0</td>\n",
       "    </tr>\n",
       "    <tr>\n",
       "      <th>1</th>\n",
       "      <td>2022-07-10</td>\n",
       "      <td>6</td>\n",
       "      <td>5.0</td>\n",
       "      <td>4.0</td>\n",
       "      <td>15</td>\n",
       "      <td>6</td>\n",
       "      <td>3.0</td>\n",
       "    </tr>\n",
       "    <tr>\n",
       "      <th>2</th>\n",
       "      <td>2022-07-17</td>\n",
       "      <td>15</td>\n",
       "      <td>3.0</td>\n",
       "      <td>3.0</td>\n",
       "      <td>21</td>\n",
       "      <td>15</td>\n",
       "      <td>5.0</td>\n",
       "    </tr>\n",
       "    <tr>\n",
       "      <th>3</th>\n",
       "      <td>2022-07-24</td>\n",
       "      <td>19</td>\n",
       "      <td>8.0</td>\n",
       "      <td>4.0</td>\n",
       "      <td>31</td>\n",
       "      <td>19</td>\n",
       "      <td>8.0</td>\n",
       "    </tr>\n",
       "    <tr>\n",
       "      <th>4</th>\n",
       "      <td>2022-07-31</td>\n",
       "      <td>22</td>\n",
       "      <td>2.0</td>\n",
       "      <td>8.0</td>\n",
       "      <td>32</td>\n",
       "      <td>22</td>\n",
       "      <td>9.0</td>\n",
       "    </tr>\n",
       "  </tbody>\n",
       "</table>\n",
       "</div>"
      ],
      "text/plain": [
       "      Issued  Completed_Within_14  Completed_Within_15_30  Completed_After_30  \\\n",
       "0 2022-07-03                    1                     1.0                 0.0   \n",
       "1 2022-07-10                    6                     5.0                 4.0   \n",
       "2 2022-07-17                   15                     3.0                 3.0   \n",
       "3 2022-07-24                   19                     8.0                 4.0   \n",
       "4 2022-07-31                   22                     2.0                 8.0   \n",
       "\n",
       "   Total_Completed  Incomplete_less_than_14_days  Incomplete_more_than_14_Days  \n",
       "0                2                             1                           0.0  \n",
       "1               15                             6                           3.0  \n",
       "2               21                            15                           5.0  \n",
       "3               31                            19                           8.0  \n",
       "4               32                            22                           9.0  "
      ]
     },
     "execution_count": 1042,
     "metadata": {},
     "output_type": "execute_result"
    }
   ],
   "source": [
    "# Joining recently defined columns\n",
    "\n",
    "weekly_rates = less_than_14.join(btw_15_30).join(since_issue_30).join(complete).join(Less_than_14).join(More_14_days).fillna(0).reset_index()\n",
    "weekly_rates.head()"
   ]
  },
  {
   "cell_type": "markdown",
   "id": "63bde18b",
   "metadata": {},
   "source": [
    "## Creating columns sums the number of evaluations completed or incomplete by week"
   ]
  },
  {
   "cell_type": "code",
   "execution_count": 1043,
   "id": "6e34c437",
   "metadata": {},
   "outputs": [],
   "source": [
    "# changing the datatypes \n",
    "\n",
    "weekly_rates['Incomplete_more_than_14_Days'] = weekly_rates['Incomplete_more_than_14_Days'].astype('Int64')\n",
    "\n",
    "weekly_rates['Completed_Within_15_30'] = weekly_rates['Completed_Within_15_30'].astype('Int64')\n",
    "\n",
    "weekly_rates['Completed_After_30'] = weekly_rates['Completed_After_30'].astype('Int64')"
   ]
  },
  {
   "cell_type": "code",
   "execution_count": 1044,
   "id": "e76ecd12",
   "metadata": {},
   "outputs": [
    {
     "data": {
      "text/html": [
       "<div>\n",
       "<style scoped>\n",
       "    .dataframe tbody tr th:only-of-type {\n",
       "        vertical-align: middle;\n",
       "    }\n",
       "\n",
       "    .dataframe tbody tr th {\n",
       "        vertical-align: top;\n",
       "    }\n",
       "\n",
       "    .dataframe thead th {\n",
       "        text-align: right;\n",
       "    }\n",
       "</style>\n",
       "<table border=\"1\" class=\"dataframe\">\n",
       "  <thead>\n",
       "    <tr style=\"text-align: right;\">\n",
       "      <th></th>\n",
       "      <th>Issued</th>\n",
       "      <th>Completed_Within_14</th>\n",
       "      <th>Completed_Within_15_30</th>\n",
       "      <th>Completed_After_30</th>\n",
       "      <th>Total_Completed</th>\n",
       "      <th>Incomplete_less_than_14_days</th>\n",
       "      <th>Incomplete_more_than_14_Days</th>\n",
       "      <th>num_incomplete</th>\n",
       "    </tr>\n",
       "  </thead>\n",
       "  <tbody>\n",
       "    <tr>\n",
       "      <th>0</th>\n",
       "      <td>2022-07-03</td>\n",
       "      <td>1</td>\n",
       "      <td>1</td>\n",
       "      <td>0</td>\n",
       "      <td>2</td>\n",
       "      <td>1</td>\n",
       "      <td>0</td>\n",
       "      <td>1</td>\n",
       "    </tr>\n",
       "    <tr>\n",
       "      <th>1</th>\n",
       "      <td>2022-07-10</td>\n",
       "      <td>6</td>\n",
       "      <td>5</td>\n",
       "      <td>4</td>\n",
       "      <td>15</td>\n",
       "      <td>6</td>\n",
       "      <td>3</td>\n",
       "      <td>9</td>\n",
       "    </tr>\n",
       "    <tr>\n",
       "      <th>2</th>\n",
       "      <td>2022-07-17</td>\n",
       "      <td>15</td>\n",
       "      <td>3</td>\n",
       "      <td>3</td>\n",
       "      <td>21</td>\n",
       "      <td>15</td>\n",
       "      <td>5</td>\n",
       "      <td>20</td>\n",
       "    </tr>\n",
       "    <tr>\n",
       "      <th>3</th>\n",
       "      <td>2022-07-24</td>\n",
       "      <td>19</td>\n",
       "      <td>8</td>\n",
       "      <td>4</td>\n",
       "      <td>31</td>\n",
       "      <td>19</td>\n",
       "      <td>8</td>\n",
       "      <td>27</td>\n",
       "    </tr>\n",
       "    <tr>\n",
       "      <th>4</th>\n",
       "      <td>2022-07-31</td>\n",
       "      <td>22</td>\n",
       "      <td>2</td>\n",
       "      <td>8</td>\n",
       "      <td>32</td>\n",
       "      <td>22</td>\n",
       "      <td>9</td>\n",
       "      <td>31</td>\n",
       "    </tr>\n",
       "  </tbody>\n",
       "</table>\n",
       "</div>"
      ],
      "text/plain": [
       "      Issued  Completed_Within_14  Completed_Within_15_30  Completed_After_30  \\\n",
       "0 2022-07-03                    1                       1                   0   \n",
       "1 2022-07-10                    6                       5                   4   \n",
       "2 2022-07-17                   15                       3                   3   \n",
       "3 2022-07-24                   19                       8                   4   \n",
       "4 2022-07-31                   22                       2                   8   \n",
       "\n",
       "   Total_Completed  Incomplete_less_than_14_days  \\\n",
       "0                2                             1   \n",
       "1               15                             6   \n",
       "2               21                            15   \n",
       "3               31                            19   \n",
       "4               32                            22   \n",
       "\n",
       "   Incomplete_more_than_14_Days  num_incomplete  \n",
       "0                             0               1  \n",
       "1                             3               9  \n",
       "2                             5              20  \n",
       "3                             8              27  \n",
       "4                             9              31  "
      ]
     },
     "execution_count": 1044,
     "metadata": {},
     "output_type": "execute_result"
    }
   ],
   "source": [
    "weekly_rates['num_incomplete'] = weekly_rates['Incomplete_less_than_14_days'] + weekly_rates['Incomplete_more_than_14_Days']\n",
    "weekly_rates.head()"
   ]
  },
  {
   "cell_type": "code",
   "execution_count": 1045,
   "id": "46c65fb2",
   "metadata": {},
   "outputs": [
    {
     "data": {
      "text/html": [
       "<div>\n",
       "<style scoped>\n",
       "    .dataframe tbody tr th:only-of-type {\n",
       "        vertical-align: middle;\n",
       "    }\n",
       "\n",
       "    .dataframe tbody tr th {\n",
       "        vertical-align: top;\n",
       "    }\n",
       "\n",
       "    .dataframe thead th {\n",
       "        text-align: right;\n",
       "    }\n",
       "</style>\n",
       "<table border=\"1\" class=\"dataframe\">\n",
       "  <thead>\n",
       "    <tr style=\"text-align: right;\">\n",
       "      <th></th>\n",
       "      <th>Issued</th>\n",
       "      <th>Completed_Within_14</th>\n",
       "      <th>Completed_Within_15_30</th>\n",
       "      <th>Completed_After_30</th>\n",
       "      <th>Total_Completed</th>\n",
       "      <th>Incomplete_less_than_14_days</th>\n",
       "      <th>Incomplete_more_than_14_Days</th>\n",
       "      <th>num_incomplete</th>\n",
       "      <th>Total</th>\n",
       "    </tr>\n",
       "  </thead>\n",
       "  <tbody>\n",
       "    <tr>\n",
       "      <th>0</th>\n",
       "      <td>2022-07-03</td>\n",
       "      <td>1</td>\n",
       "      <td>1</td>\n",
       "      <td>0</td>\n",
       "      <td>2</td>\n",
       "      <td>1</td>\n",
       "      <td>0</td>\n",
       "      <td>1</td>\n",
       "      <td>3</td>\n",
       "    </tr>\n",
       "    <tr>\n",
       "      <th>1</th>\n",
       "      <td>2022-07-10</td>\n",
       "      <td>6</td>\n",
       "      <td>5</td>\n",
       "      <td>4</td>\n",
       "      <td>15</td>\n",
       "      <td>6</td>\n",
       "      <td>3</td>\n",
       "      <td>9</td>\n",
       "      <td>24</td>\n",
       "    </tr>\n",
       "    <tr>\n",
       "      <th>2</th>\n",
       "      <td>2022-07-17</td>\n",
       "      <td>15</td>\n",
       "      <td>3</td>\n",
       "      <td>3</td>\n",
       "      <td>21</td>\n",
       "      <td>15</td>\n",
       "      <td>5</td>\n",
       "      <td>20</td>\n",
       "      <td>41</td>\n",
       "    </tr>\n",
       "    <tr>\n",
       "      <th>3</th>\n",
       "      <td>2022-07-24</td>\n",
       "      <td>19</td>\n",
       "      <td>8</td>\n",
       "      <td>4</td>\n",
       "      <td>31</td>\n",
       "      <td>19</td>\n",
       "      <td>8</td>\n",
       "      <td>27</td>\n",
       "      <td>58</td>\n",
       "    </tr>\n",
       "    <tr>\n",
       "      <th>4</th>\n",
       "      <td>2022-07-31</td>\n",
       "      <td>22</td>\n",
       "      <td>2</td>\n",
       "      <td>8</td>\n",
       "      <td>32</td>\n",
       "      <td>22</td>\n",
       "      <td>9</td>\n",
       "      <td>31</td>\n",
       "      <td>63</td>\n",
       "    </tr>\n",
       "  </tbody>\n",
       "</table>\n",
       "</div>"
      ],
      "text/plain": [
       "      Issued  Completed_Within_14  Completed_Within_15_30  Completed_After_30  \\\n",
       "0 2022-07-03                    1                       1                   0   \n",
       "1 2022-07-10                    6                       5                   4   \n",
       "2 2022-07-17                   15                       3                   3   \n",
       "3 2022-07-24                   19                       8                   4   \n",
       "4 2022-07-31                   22                       2                   8   \n",
       "\n",
       "   Total_Completed  Incomplete_less_than_14_days  \\\n",
       "0                2                             1   \n",
       "1               15                             6   \n",
       "2               21                            15   \n",
       "3               31                            19   \n",
       "4               32                            22   \n",
       "\n",
       "   Incomplete_more_than_14_Days  num_incomplete  Total  \n",
       "0                             0               1      3  \n",
       "1                             3               9     24  \n",
       "2                             5              20     41  \n",
       "3                             8              27     58  \n",
       "4                             9              31     63  "
      ]
     },
     "execution_count": 1045,
     "metadata": {},
     "output_type": "execute_result"
    }
   ],
   "source": [
    "weekly_rates['Total'] =  (weekly_rates['Total_Completed'] + weekly_rates['num_incomplete']).astype('Int64')\n",
    "weekly_rates.head()"
   ]
  },
  {
   "cell_type": "code",
   "execution_count": 1046,
   "id": "559208a8",
   "metadata": {},
   "outputs": [],
   "source": [
    "weekly_rates.fillna(0, inplace = True)"
   ]
  },
  {
   "cell_type": "code",
   "execution_count": 1047,
   "id": "435a3122",
   "metadata": {},
   "outputs": [],
   "source": [
    "weekly_rates['Percent_incomplete'] = (weekly_rates['num_incomplete'].astype('Int64') / weekly_rates['Total'].astype('Int64'))"
   ]
  },
  {
   "cell_type": "code",
   "execution_count": 1048,
   "id": "471a9b77",
   "metadata": {},
   "outputs": [],
   "source": [
    "weekly_rates['Percent_complete'] = (weekly_rates['Total_Completed'].astype('Int64') / weekly_rates['Total'].astype('Int64'))"
   ]
  },
  {
   "cell_type": "code",
   "execution_count": 1049,
   "id": "0b35bbfb",
   "metadata": {},
   "outputs": [],
   "source": [
    "weekly_rates['Completed Within 14 Days'] = weekly_rates['Completed_Within_14'] / weekly_rates['Total_Completed']"
   ]
  },
  {
   "cell_type": "code",
   "execution_count": 1050,
   "id": "58c848e9",
   "metadata": {},
   "outputs": [],
   "source": [
    "weekly_rates['Completed Within 15-30 Days'] = weekly_rates['Completed_Within_15_30'] / weekly_rates['Total_Completed']"
   ]
  },
  {
   "cell_type": "code",
   "execution_count": 1051,
   "id": "24f2da85",
   "metadata": {},
   "outputs": [],
   "source": [
    "weekly_rates['Completed 30+ Days After Issue'] = weekly_rates['Completed_After_30'] / weekly_rates['Total_Completed']"
   ]
  },
  {
   "cell_type": "code",
   "execution_count": 1052,
   "id": "20543969",
   "metadata": {},
   "outputs": [],
   "source": [
    "weekly_rates['% Complete'] = weekly_rates['Total_Completed'] / weekly_rates['Total']"
   ]
  },
  {
   "cell_type": "code",
   "execution_count": 1053,
   "id": "a5c7f122",
   "metadata": {},
   "outputs": [],
   "source": [
    "weekly_rates['Incomplete & < 14 Days Since Issue'] = weekly_rates['Incomplete_less_than_14_days'] / weekly_rates['num_incomplete'] "
   ]
  },
  {
   "cell_type": "code",
   "execution_count": 1054,
   "id": "917412f9",
   "metadata": {
    "scrolled": true
   },
   "outputs": [],
   "source": [
    "weekly_rates['Incomplete & > 14 Days Since Issue'] = weekly_rates['Incomplete_more_than_14_Days'] / weekly_rates['num_incomplete']"
   ]
  },
  {
   "cell_type": "code",
   "execution_count": 1055,
   "id": "c3239e25",
   "metadata": {},
   "outputs": [],
   "source": [
    "final_rates = weekly_rates[['Issued','Completed Within 14 Days','Completed Within 15-30 Days','Completed 30+ Days After Issue',\n",
    "        '% Complete','Incomplete & < 14 Days Since Issue','Incomplete & > 14 Days Since Issue',\n",
    "        'Percent_incomplete']].round(2)"
   ]
  },
  {
   "cell_type": "code",
   "execution_count": 1056,
   "id": "a4a773a6",
   "metadata": {},
   "outputs": [
    {
     "name": "stdout",
     "output_type": "stream",
     "text": [
      "All Done!\n"
     ]
    }
   ],
   "source": [
    "final_rates.to_excel('demo_eval_completion_by_week.xlsx', index = False)\n",
    "print('All Done!')"
   ]
  },
  {
   "cell_type": "code",
   "execution_count": 1057,
   "id": "bc0154cd",
   "metadata": {
    "scrolled": true
   },
   "outputs": [
    {
     "data": {
      "text/html": [
       "<div>\n",
       "<style scoped>\n",
       "    .dataframe tbody tr th:only-of-type {\n",
       "        vertical-align: middle;\n",
       "    }\n",
       "\n",
       "    .dataframe tbody tr th {\n",
       "        vertical-align: top;\n",
       "    }\n",
       "\n",
       "    .dataframe thead th {\n",
       "        text-align: right;\n",
       "    }\n",
       "</style>\n",
       "<table border=\"1\" class=\"dataframe\">\n",
       "  <thead>\n",
       "    <tr style=\"text-align: right;\">\n",
       "      <th></th>\n",
       "      <th>Issued</th>\n",
       "      <th>Completed Within 14 Days</th>\n",
       "      <th>Completed Within 15-30 Days</th>\n",
       "      <th>Completed 30+ Days After Issue</th>\n",
       "      <th>% Complete</th>\n",
       "      <th>Incomplete &amp; &lt; 14 Days Since Issue</th>\n",
       "      <th>Incomplete &amp; &gt; 14 Days Since Issue</th>\n",
       "      <th>Percent_incomplete</th>\n",
       "    </tr>\n",
       "  </thead>\n",
       "  <tbody>\n",
       "    <tr>\n",
       "      <th>0</th>\n",
       "      <td>2022-07-03</td>\n",
       "      <td>0.50</td>\n",
       "      <td>0.5</td>\n",
       "      <td>0.0</td>\n",
       "      <td>0.67</td>\n",
       "      <td>1.0</td>\n",
       "      <td>0.0</td>\n",
       "      <td>0.33</td>\n",
       "    </tr>\n",
       "    <tr>\n",
       "      <th>1</th>\n",
       "      <td>2022-07-10</td>\n",
       "      <td>0.40</td>\n",
       "      <td>0.33</td>\n",
       "      <td>0.27</td>\n",
       "      <td>0.62</td>\n",
       "      <td>0.67</td>\n",
       "      <td>0.33</td>\n",
       "      <td>0.38</td>\n",
       "    </tr>\n",
       "    <tr>\n",
       "      <th>2</th>\n",
       "      <td>2022-07-17</td>\n",
       "      <td>0.71</td>\n",
       "      <td>0.14</td>\n",
       "      <td>0.14</td>\n",
       "      <td>0.51</td>\n",
       "      <td>0.75</td>\n",
       "      <td>0.25</td>\n",
       "      <td>0.49</td>\n",
       "    </tr>\n",
       "    <tr>\n",
       "      <th>3</th>\n",
       "      <td>2022-07-24</td>\n",
       "      <td>0.61</td>\n",
       "      <td>0.26</td>\n",
       "      <td>0.13</td>\n",
       "      <td>0.53</td>\n",
       "      <td>0.7</td>\n",
       "      <td>0.3</td>\n",
       "      <td>0.47</td>\n",
       "    </tr>\n",
       "    <tr>\n",
       "      <th>4</th>\n",
       "      <td>2022-07-31</td>\n",
       "      <td>0.69</td>\n",
       "      <td>0.06</td>\n",
       "      <td>0.25</td>\n",
       "      <td>0.51</td>\n",
       "      <td>0.71</td>\n",
       "      <td>0.29</td>\n",
       "      <td>0.49</td>\n",
       "    </tr>\n",
       "  </tbody>\n",
       "</table>\n",
       "</div>"
      ],
      "text/plain": [
       "      Issued  Completed Within 14 Days  Completed Within 15-30 Days  \\\n",
       "0 2022-07-03                      0.50                          0.5   \n",
       "1 2022-07-10                      0.40                         0.33   \n",
       "2 2022-07-17                      0.71                         0.14   \n",
       "3 2022-07-24                      0.61                         0.26   \n",
       "4 2022-07-31                      0.69                         0.06   \n",
       "\n",
       "   Completed 30+ Days After Issue  % Complete  \\\n",
       "0                             0.0        0.67   \n",
       "1                            0.27        0.62   \n",
       "2                            0.14        0.51   \n",
       "3                            0.13        0.53   \n",
       "4                            0.25        0.51   \n",
       "\n",
       "   Incomplete & < 14 Days Since Issue  Incomplete & > 14 Days Since Issue  \\\n",
       "0                                 1.0                                 0.0   \n",
       "1                                0.67                                0.33   \n",
       "2                                0.75                                0.25   \n",
       "3                                 0.7                                 0.3   \n",
       "4                                0.71                                0.29   \n",
       "\n",
       "   Percent_incomplete  \n",
       "0                0.33  \n",
       "1                0.38  \n",
       "2                0.49  \n",
       "3                0.47  \n",
       "4                0.49  "
      ]
     },
     "execution_count": 1057,
     "metadata": {},
     "output_type": "execute_result"
    }
   ],
   "source": [
    "# evaluation completion rates by week\n",
    "final_rates.head()"
   ]
  },
  {
   "cell_type": "code",
   "execution_count": 1058,
   "id": "4c81dd7d",
   "metadata": {},
   "outputs": [
    {
     "data": {
      "text/html": [
       "<div>\n",
       "<style scoped>\n",
       "    .dataframe tbody tr th:only-of-type {\n",
       "        vertical-align: middle;\n",
       "    }\n",
       "\n",
       "    .dataframe tbody tr th {\n",
       "        vertical-align: top;\n",
       "    }\n",
       "\n",
       "    .dataframe thead th {\n",
       "        text-align: right;\n",
       "    }\n",
       "</style>\n",
       "<table border=\"1\" class=\"dataframe\">\n",
       "  <thead>\n",
       "    <tr style=\"text-align: right;\">\n",
       "      <th></th>\n",
       "      <th>Evaluator</th>\n",
       "      <th>Evaluation</th>\n",
       "      <th>Type</th>\n",
       "      <th>Status</th>\n",
       "      <th>Issued</th>\n",
       "      <th>Completed</th>\n",
       "      <th>Rotation</th>\n",
       "      <th>Academic Unit</th>\n",
       "    </tr>\n",
       "  </thead>\n",
       "  <tbody>\n",
       "    <tr>\n",
       "      <th>0</th>\n",
       "      <td>Jason Brown</td>\n",
       "      <td>Jacqueline Ball</td>\n",
       "      <td>Faculty evaluation of a resident</td>\n",
       "      <td>Incomplete</td>\n",
       "      <td>3/6/2023</td>\n",
       "      <td>NaN</td>\n",
       "      <td>2/1-2/28/2023</td>\n",
       "      <td>Endocrinology</td>\n",
       "    </tr>\n",
       "    <tr>\n",
       "      <th>1</th>\n",
       "      <td>Jason Brown</td>\n",
       "      <td>Jacqueline Ball</td>\n",
       "      <td>Faculty evaluation of a resident</td>\n",
       "      <td>Complete</td>\n",
       "      <td>1/6/2023</td>\n",
       "      <td>2/5/2023</td>\n",
       "      <td>12/1-12/31/2022</td>\n",
       "      <td>Endocrinology</td>\n",
       "    </tr>\n",
       "    <tr>\n",
       "      <th>2</th>\n",
       "      <td>Jason Brown</td>\n",
       "      <td>Christine Lane</td>\n",
       "      <td>Faculty evaluation of a resident</td>\n",
       "      <td>Complete</td>\n",
       "      <td>12/19/2022</td>\n",
       "      <td>2/5/2023</td>\n",
       "      <td>10/1-10/31/2022</td>\n",
       "      <td>Endocrinology</td>\n",
       "    </tr>\n",
       "    <tr>\n",
       "      <th>3</th>\n",
       "      <td>Jason Brown</td>\n",
       "      <td>Christine Lane</td>\n",
       "      <td>Faculty evaluation of a resident</td>\n",
       "      <td>Complete</td>\n",
       "      <td>9/29/2022</td>\n",
       "      <td>12/6/2022</td>\n",
       "      <td>9/1-9/30/2022</td>\n",
       "      <td>Endocrinology</td>\n",
       "    </tr>\n",
       "    <tr>\n",
       "      <th>4</th>\n",
       "      <td>Jason Brown</td>\n",
       "      <td>Lawrence Ramos</td>\n",
       "      <td>Faculty evaluation of a student</td>\n",
       "      <td>Complete</td>\n",
       "      <td>11/3/2022</td>\n",
       "      <td>12/6/2022</td>\n",
       "      <td>10/24-11/4/2022</td>\n",
       "      <td>Endocrinology</td>\n",
       "    </tr>\n",
       "  </tbody>\n",
       "</table>\n",
       "</div>"
      ],
      "text/plain": [
       "     Evaluator       Evaluation                              Type      Status  \\\n",
       "0  Jason Brown  Jacqueline Ball  Faculty evaluation of a resident  Incomplete   \n",
       "1  Jason Brown  Jacqueline Ball  Faculty evaluation of a resident    Complete   \n",
       "2  Jason Brown   Christine Lane  Faculty evaluation of a resident    Complete   \n",
       "3  Jason Brown   Christine Lane  Faculty evaluation of a resident    Complete   \n",
       "4  Jason Brown   Lawrence Ramos   Faculty evaluation of a student    Complete   \n",
       "\n",
       "       Issued  Completed         Rotation  Academic Unit  \n",
       "0    3/6/2023        NaN    2/1-2/28/2023  Endocrinology  \n",
       "1    1/6/2023   2/5/2023  12/1-12/31/2022  Endocrinology  \n",
       "2  12/19/2022   2/5/2023  10/1-10/31/2022  Endocrinology  \n",
       "3   9/29/2022  12/6/2022    9/1-9/30/2022  Endocrinology  \n",
       "4   11/3/2022  12/6/2022  10/24-11/4/2022  Endocrinology  "
      ]
     },
     "execution_count": 1058,
     "metadata": {},
     "output_type": "execute_result"
    }
   ],
   "source": [
    "final_features.head()"
   ]
  },
  {
   "cell_type": "code",
   "execution_count": 1059,
   "id": "411a241a",
   "metadata": {},
   "outputs": [
    {
     "data": {
      "text/plain": [
       "Text(0.5, 1.0, 'Number of Evaluations per Section')"
      ]
     },
     "execution_count": 1059,
     "metadata": {},
     "output_type": "execute_result"
    },
    {
     "data": {
      "image/png": "[encoded data removed]",
      "text/plain": [
       "<Figure size 600x400 with 1 Axes>"
      ]
     },
     "metadata": {},
     "output_type": "display_data"
    }
   ],
   "source": [
    "# number of evals per academic unit\n",
    "num_unit_evals = final_features.groupby('Academic Unit')['Issued'].count().reset_index().sort_values(by='Issued', ascending = False)\n",
    "\n",
    "fig = plt.figure(figsize = (6,4))\n",
    "plt.bar(num_unit_evals[\"Academic Unit\"], num_unit_evals['Issued'])#, color = ['red','blue','yellow','purple','green','brown','teal'])\n",
    "plt.xticks(rotation = 75)\n",
    "plt.grid()\n",
    "plt.title('Number of Evaluations per Section', size = 20)"
   ]
  },
  {
   "cell_type": "code",
   "execution_count": 1060,
   "id": "1c0e515a",
   "metadata": {},
   "outputs": [
    {
     "data": {
      "text/html": [
       "<div>\n",
       "<style scoped>\n",
       "    .dataframe tbody tr th:only-of-type {\n",
       "        vertical-align: middle;\n",
       "    }\n",
       "\n",
       "    .dataframe tbody tr th {\n",
       "        vertical-align: top;\n",
       "    }\n",
       "\n",
       "    .dataframe thead th {\n",
       "        text-align: right;\n",
       "    }\n",
       "</style>\n",
       "<table border=\"1\" class=\"dataframe\">\n",
       "  <thead>\n",
       "    <tr style=\"text-align: right;\">\n",
       "      <th></th>\n",
       "      <th>Evaluator</th>\n",
       "      <th>Issued</th>\n",
       "      <th>AVG Time to Complete</th>\n",
       "    </tr>\n",
       "  </thead>\n",
       "  <tbody>\n",
       "    <tr>\n",
       "      <th>0</th>\n",
       "      <td>Aaron Stokes</td>\n",
       "      <td>11</td>\n",
       "      <td>16.0</td>\n",
       "    </tr>\n",
       "    <tr>\n",
       "      <th>1</th>\n",
       "      <td>Aaron Walker</td>\n",
       "      <td>34</td>\n",
       "      <td>10.0</td>\n",
       "    </tr>\n",
       "    <tr>\n",
       "      <th>2</th>\n",
       "      <td>Adam Hoffman</td>\n",
       "      <td>7</td>\n",
       "      <td>12.0</td>\n",
       "    </tr>\n",
       "  </tbody>\n",
       "</table>\n",
       "</div>"
      ],
      "text/plain": [
       "      Evaluator  Issued  AVG Time to Complete\n",
       "0  Aaron Stokes      11                  16.0\n",
       "1  Aaron Walker      34                  10.0\n",
       "2  Adam Hoffman       7                  12.0"
      ]
     },
     "execution_count": 1060,
     "metadata": {},
     "output_type": "execute_result"
    }
   ],
   "source": [
    "# number of evals per faculty\n",
    "\n",
    "num_evals_per_faculty = final_features.groupby('Evaluator')['Issued'].count().reset_index().sort_values(by = 'Evaluator', ascending = True)\n",
    "num_evals_per_faculty\n",
    "\n",
    "# average time to complete evaluations by evaluator\n",
    "\n",
    "avg_comp_time = rates.groupby('Evaluator')['AVG Time to Complete'].mean().reset_index().sort_values(by='Evaluator', ascending = True)\n",
    "avg_comp_time\n",
    "\n",
    "num_evals_avg_time = pd.merge(num_evals_per_faculty, avg_comp_time, on ='Evaluator')\n",
    "\n",
    "num_evals_avg_time['AVG Time to Complete'] = num_evals_avg_time['AVG Time to Complete'].dt.days\n",
    "\n",
    "num_evals_avg_time.head(3)"
   ]
  },
  {
   "cell_type": "code",
   "execution_count": 1061,
   "id": "c7d8cf38",
   "metadata": {},
   "outputs": [
    {
     "data": {
      "text/html": [
       "<div>\n",
       "<style scoped>\n",
       "    .dataframe tbody tr th:only-of-type {\n",
       "        vertical-align: middle;\n",
       "    }\n",
       "\n",
       "    .dataframe tbody tr th {\n",
       "        vertical-align: top;\n",
       "    }\n",
       "\n",
       "    .dataframe thead th {\n",
       "        text-align: right;\n",
       "    }\n",
       "</style>\n",
       "<table border=\"1\" class=\"dataframe\">\n",
       "  <thead>\n",
       "    <tr style=\"text-align: right;\">\n",
       "      <th></th>\n",
       "      <th>Academic Unit</th>\n",
       "      <th>Issued</th>\n",
       "      <th>AVG Time to Complete</th>\n",
       "    </tr>\n",
       "  </thead>\n",
       "  <tbody>\n",
       "    <tr>\n",
       "      <th>0</th>\n",
       "      <td>Emergency Medicine</td>\n",
       "      <td>484</td>\n",
       "      <td>16</td>\n",
       "    </tr>\n",
       "    <tr>\n",
       "      <th>1</th>\n",
       "      <td>Hospital Medicine</td>\n",
       "      <td>272</td>\n",
       "      <td>22</td>\n",
       "    </tr>\n",
       "    <tr>\n",
       "      <th>2</th>\n",
       "      <td>Hematology / Oncology</td>\n",
       "      <td>145</td>\n",
       "      <td>24</td>\n",
       "    </tr>\n",
       "  </tbody>\n",
       "</table>\n",
       "</div>"
      ],
      "text/plain": [
       "           Academic Unit  Issued  AVG Time to Complete\n",
       "0     Emergency Medicine     484                    16\n",
       "1      Hospital Medicine     272                    22\n",
       "2  Hematology / Oncology     145                    24"
      ]
     },
     "execution_count": 1061,
     "metadata": {},
     "output_type": "execute_result"
    }
   ],
   "source": [
    "# average completion time by section\n",
    "avg_comp_time_by_section = rates.groupby('Academic Unit')['AVG Time to Complete'].mean().reset_index().sort_values(by='AVG Time to Complete',\n",
    "                                                                                                         ascending = False).reset_index(drop = True)\n",
    "\n",
    "avg_comp_time_by_section['AVG Time to Complete'] = avg_comp_time_by_section['AVG Time to Complete'].dt.days\n",
    "\n",
    "# creating a data frame to identify the number of evals by section\n",
    "\n",
    "num_unit_evals = final_features.groupby('Academic Unit')['Issued'].count().reset_index().sort_values(by='Issued', ascending = False)\n",
    "\n",
    "# merging the to previously created dataframes to identify  the number of evaluations and average time to complete by academic unit in one frame\n",
    "num_avg_unit_evals = pd.merge(num_unit_evals, avg_comp_time_by_section, on = 'Academic Unit')\n",
    "num_avg_unit_evals.head(3)"
   ]
  },
  {
   "cell_type": "code",
   "execution_count": 1062,
   "id": "90fb0394",
   "metadata": {},
   "outputs": [
    {
     "data": {
      "text/html": [
       "<div>\n",
       "<style scoped>\n",
       "    .dataframe tbody tr th:only-of-type {\n",
       "        vertical-align: middle;\n",
       "    }\n",
       "\n",
       "    .dataframe tbody tr th {\n",
       "        vertical-align: top;\n",
       "    }\n",
       "\n",
       "    .dataframe thead th {\n",
       "        text-align: right;\n",
       "    }\n",
       "</style>\n",
       "<table border=\"1\" class=\"dataframe\">\n",
       "  <thead>\n",
       "    <tr style=\"text-align: right;\">\n",
       "      <th></th>\n",
       "      <th>Issued</th>\n",
       "      <th>AVG Time to Complete</th>\n",
       "    </tr>\n",
       "  </thead>\n",
       "  <tbody>\n",
       "    <tr>\n",
       "      <th>Issued</th>\n",
       "      <td>1.000000</td>\n",
       "      <td>0.141054</td>\n",
       "    </tr>\n",
       "    <tr>\n",
       "      <th>AVG Time to Complete</th>\n",
       "      <td>0.141054</td>\n",
       "      <td>1.000000</td>\n",
       "    </tr>\n",
       "  </tbody>\n",
       "</table>\n",
       "</div>"
      ],
      "text/plain": [
       "                        Issued  AVG Time to Complete\n",
       "Issued                1.000000              0.141054\n",
       "AVG Time to Complete  0.141054              1.000000"
      ]
     },
     "execution_count": 1062,
     "metadata": {},
     "output_type": "execute_result"
    }
   ],
   "source": [
    "# there is a small and siginificantly unimportant correlation between number of evaluations and average time to complete\n",
    "num_avg_unit_evals.corr()"
   ]
  },
  {
   "cell_type": "code",
   "execution_count": 1063,
   "id": "9245cf0d",
   "metadata": {},
   "outputs": [
    {
     "data": {
      "text/plain": [
       "Text(0.5, 1.0, 'Number of Evals Issued')"
      ]
     },
     "execution_count": 1063,
     "metadata": {},
     "output_type": "execute_result"
    },
    {
     "data": {
      "image/png": "[encoded data removed]",
      "text/plain": [
       "<Figure size 600x400 with 1 Axes>"
      ]
     },
     "metadata": {},
     "output_type": "display_data"
    }
   ],
   "source": [
    "# visualizating number of evaluations\n",
    "\n",
    "fig = plt.figure(figsize = (6,4))\n",
    "plt.bar(num_avg_unit_evals[\"Academic Unit\"], num_avg_unit_evals['Issued'])#, color = ['red','blue','yellow','purple','green','brown','teal'])\n",
    "plt.xticks(rotation = 75)\n",
    "plt.grid()\n",
    "plt.title('Number of Evals Issued', size = 20)"
   ]
  },
  {
   "cell_type": "code",
   "execution_count": 1064,
   "id": "92d849eb",
   "metadata": {},
   "outputs": [
    {
     "data": {
      "text/plain": [
       "Text(0.5, 1.0, 'AVG Time to Complete')"
      ]
     },
     "execution_count": 1064,
     "metadata": {},
     "output_type": "execute_result"
    },
    {
     "data": {
      "image/png": "[encoded data removed]",
      "text/plain": [
       "<Figure size 600x400 with 1 Axes>"
      ]
     },
     "metadata": {},
     "output_type": "display_data"
    }
   ],
   "source": [
    "# visualizating average time to complete\n",
    "\n",
    "fig = plt.figure(figsize = (6,4))\n",
    "plt.bar(num_avg_unit_evals[\"Academic Unit\"], num_avg_unit_evals['AVG Time to Complete'])#, color = ['red','blue','yellow','purple','green','brown','teal'])\n",
    "plt.xticks(rotation = 75)\n",
    "plt.grid()\n",
    "plt.title('AVG Time to Complete', size = 20)"
   ]
  },
  {
   "cell_type": "code",
   "execution_count": null,
   "id": "44e9a95b",
   "metadata": {},
   "outputs": [],
   "source": []
  },
  {
   "cell_type": "code",
   "execution_count": null,
   "id": "84d1930e",
   "metadata": {},
   "outputs": [],
   "source": []
  },
  {
   "cell_type": "code",
   "execution_count": null,
   "id": "6dbc3fc5",
   "metadata": {},
   "outputs": [],
   "source": []
  }
 ],
 "metadata": {
  "kernelspec": {
   "display_name": "Python 3 (ipykernel)",
   "language": "python",
   "name": "python3"
  },
  "language_info": {
   "codemirror_mode": {
    "name": "ipython",
    "version": 3
   },
   "file_extension": ".py",
   "mimetype": "text/x-python",
   "name": "python",
   "nbconvert_exporter": "python",
   "pygments_lexer": "ipython3",
   "version": "3.9.12"
  }
 },
 "nbformat": 4,
 "nbformat_minor": 5
}
